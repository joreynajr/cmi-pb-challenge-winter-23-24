{
 "cells": [
  {
   "cell_type": "code",
   "execution_count": 86,
   "id": "a6087f3f",
   "metadata": {},
   "outputs": [],
   "source": [
    "import os\n",
    "import numpy as np\n",
    "import pandas as pd \n",
    "import glob\n",
    "from sklearn.linear_model import LinearRegression, Lasso, ElasticNet, LassoCV, ElasticNetCV\n",
    "from sklearn.model_selection import train_test_split\n",
    "from sklearn.model_selection import KFold\n",
    "import scipy.stats\n",
    "import seaborn as sns\n",
    "import matplotlib.pyplot as plt\n",
    "from matplotlib.patches import Rectangle\n",
    "from sklearn.preprocessing import StandardScaler\n",
    "\n",
    "# navigate to the project folder\n",
    "os.chdir('C:/Users/jreyna/Documents/Projects/cmi-pb-multiomics/third_challenge')\n",
    "\n",
    "# setting the output dir\n",
    "outdir = 'results/main/model_devel/'\n",
    "os.makedirs(outdir, exist_ok=True)"
   ]
  },
  {
   "cell_type": "code",
   "execution_count": 87,
   "id": "16de2a8d",
   "metadata": {},
   "outputs": [],
   "source": [
    "model_dict = {'lr': LinearRegression, \n",
    "              'lasso': Lasso,\n",
    "              'elastic_net': ElasticNet, \n",
    "              'lasso_cv': LassoCV,\n",
    "              'elastic_net_cv': ElasticNetCV}\n",
    "\n",
    "#deprecated_cmodel = 'lasso'\n",
    "#deprecated_cmodel = 'elastic_net'\n",
    "\n",
    "cmodel = 'lr'\n",
    "cmodel = 'lasso_cv'\n",
    "cmodel = 'elastic_net_cv'\n",
    "cmodel_function = model_dict[cmodel]"
   ]
  },
  {
   "cell_type": "markdown",
   "id": "d1c194bf",
   "metadata": {},
   "source": [
    "## Loading the loading matrices"
   ]
  },
  {
   "cell_type": "code",
   "execution_count": 88,
   "id": "827b4eaf",
   "metadata": {},
   "outputs": [],
   "source": [
    "loadings = {} \n",
    "tpl = \"results/main/cmi_pb_datasets/processed/training_data/*.jive-loadings.tsv\"\n",
    "for loading_fn in glob.glob(tpl):\n",
    "    \n",
    "    bn = os.path.basename(loading_fn)\n",
    "    assay = bn.split('.')[0]\n",
    "    loadings_matrix = pd.read_table(loading_fn)\n",
    "    loadings[assay] = loadings_matrix"
   ]
  },
  {
   "cell_type": "markdown",
   "id": "efc2c8b0",
   "metadata": {},
   "source": [
    "## Loading the input data"
   ]
  },
  {
   "cell_type": "code",
   "execution_count": 89,
   "id": "794ddcec",
   "metadata": {},
   "outputs": [],
   "source": [
    "# setting up dictionaries to load data and results\n",
    "features = {}\n",
    "outcomes = {}"
   ]
  },
  {
   "cell_type": "markdown",
   "id": "06d6ee43",
   "metadata": {},
   "source": [
    "#### Extracting Features (calculating the reduced form of each omic)"
   ]
  },
  {
   "cell_type": "code",
   "execution_count": 90,
   "id": "697e1ff8",
   "metadata": {},
   "outputs": [],
   "source": [
    "with open('results/main/cmi_pb_datasets/processed/training_data/common_samples.txt', 'r') as f:\n",
    "    common_samples = [int(x.strip()) for x in f.readlines()]"
   ]
  },
  {
   "cell_type": "code",
   "execution_count": 91,
   "id": "f41479da",
   "metadata": {},
   "outputs": [],
   "source": [
    "tpl = 'results/main/cmi_pb_datasets/processed/training_data/*.training-data.tsv'\n",
    "for raw_fn in glob.glob(tpl):  \n",
    "    \n",
    "    bn = os.path.basename(raw_fn)\n",
    "    assay = bn.split('.')[0]\n",
    "    \n",
    "    # Loading the raw matrices\n",
    "    raw = pd.read_table(raw_fn, index_col=0, header=0)\n",
    "    shared_columns = loadings[assay].index.tolist()\n",
    "    raw = raw.loc[common_samples, shared_columns]\n",
    "    raw_array = np.matrix(raw.values)\n",
    "    \n",
    "    ## Calculating the sample factor matrix\n",
    "    loadings_array = np.matrix(loadings[assay].values)\n",
    "    sample_factors = raw_array * loadings_array\n",
    "\n",
    "    tdf = pd.DataFrame(sample_factors) \n",
    "    tdf.columns = ['{}-{}'.format(assay, i) for i in range(sample_factors.shape[1])]\n",
    "    features[assay] = tdf\n",
    "    features[assay].index = raw.index.tolist()"
   ]
  },
  {
   "cell_type": "code",
   "execution_count": 92,
   "id": "0265e259",
   "metadata": {},
   "outputs": [],
   "source": [
    "features['final'] = pd.concat([features['pbmc_cell_frequency'],\n",
    "                                     features['plasma_cytokine_concentration'],\n",
    "                                     features['pbmc_gene_expression'],\n",
    "                                     features['plasma_ab_titer']], axis=1)\n"
   ]
  },
  {
   "cell_type": "markdown",
   "metadata": {},
   "source": [
    "### Add clinical data"
   ]
  },
  {
   "cell_type": "code",
   "execution_count": 93,
   "metadata": {},
   "outputs": [
    {
     "name": "stderr",
     "output_type": "stream",
     "text": [
      "C:\\Users\\jreyna\\AppData\\Local\\Temp\\ipykernel_11568\\3581477520.py:12: SettingWithCopyWarning: \n",
      "A value is trying to be set on a copy of a slice from a DataFrame.\n",
      "Try using .loc[row_indexer,col_indexer] = value instead\n",
      "\n",
      "See the caveats in the documentation: https://pandas.pydata.org/pandas-docs/stable/user_guide/indexing.html#returning-a-view-versus-a-copy\n",
      "  clinical_comp['infancy_vac'] = clinical_comp['infancy_vac'].replace({'wP': 1, 'aP': -1})\n",
      "C:\\Users\\jreyna\\AppData\\Local\\Temp\\ipykernel_11568\\3581477520.py:13: SettingWithCopyWarning: \n",
      "A value is trying to be set on a copy of a slice from a DataFrame.\n",
      "Try using .loc[row_indexer,col_indexer] = value instead\n",
      "\n",
      "See the caveats in the documentation: https://pandas.pydata.org/pandas-docs/stable/user_guide/indexing.html#returning-a-view-versus-a-copy\n",
      "  clinical_comp['biological_sex'] = clinical_comp['biological_sex'].replace({'Male': 1, 'Female': -1})\n",
      "C:\\Users\\jreyna\\AppData\\Local\\Temp\\ipykernel_11568\\3581477520.py:14: SettingWithCopyWarning: \n",
      "A value is trying to be set on a copy of a slice from a DataFrame.\n",
      "Try using .loc[row_indexer,col_indexer] = value instead\n",
      "\n",
      "See the caveats in the documentation: https://pandas.pydata.org/pandas-docs/stable/user_guide/indexing.html#returning-a-view-versus-a-copy\n",
      "  clinical_comp['year_of_birth'] = clinical_comp['year_of_birth'].str.replace('-.*-.*', '', regex=True).astype(int)\n"
     ]
    }
   ],
   "source": [
    "clinical_data = []\n",
    "tpl = 'results/main/cmi_pb_datasets/raw/*_subject.tsv'\n",
    "for raw_fn in glob.glob(tpl):\n",
    "    tdf = pd.read_table(raw_fn)  \n",
    "    clinical_data.append(tdf)\n",
    "    \n",
    "clinical_df = pd.concat(clinical_data)\n",
    "clinical_df.set_index('subject_id', inplace=True)\n",
    "\n",
    "# extract clinical variables that will be used for modeling\n",
    "clinical_comp = clinical_df[['infancy_vac', 'biological_sex', 'year_of_birth']]\n",
    "clinical_comp['infancy_vac'] = clinical_comp['infancy_vac'].replace({'wP': 1, 'aP': -1})\n",
    "clinical_comp['biological_sex'] = clinical_comp['biological_sex'].replace({'Male': 1, 'Female': -1})\n",
    "clinical_comp['year_of_birth'] = clinical_comp['year_of_birth'].str.replace('-.*-.*', '', regex=True).astype(int)\n",
    "\n",
    "# merge the clincal with the main feature df\n",
    "features['final'] = features['final'].merge(clinical_comp, left_index=True, right_index=True)"
   ]
  },
  {
   "cell_type": "code",
   "execution_count": 94,
   "id": "676268db",
   "metadata": {},
   "outputs": [],
   "source": [
    "# scale the data\n",
    "scaler = StandardScaler()\n",
    "features['final'] = pd.DataFrame(scaler.fit_transform(features['final']),\n",
    "                                 columns=features['final'].columns)"
   ]
  },
  {
   "cell_type": "markdown",
   "id": "adfc165a",
   "metadata": {},
   "source": [
    "#### Extracting Outcomes"
   ]
  },
  {
   "cell_type": "code",
   "execution_count": 95,
   "id": "d618df23",
   "metadata": {},
   "outputs": [],
   "source": [
    "fn = 'results/main/cmi_pb_datasets/processed/all_versus_all/harmonized/task_matrix.common_names.mfi_raw.tsv'\n",
    "outcomes = pd.read_table(fn)\n",
    "outcomes = outcomes.loc[outcomes.subject_id.isin(common_samples)]"
   ]
  },
  {
   "cell_type": "code",
   "execution_count": 96,
   "metadata": {},
   "outputs": [],
   "source": [
    "outcomes = pd.DataFrame(scaler.fit_transform(outcomes),\n",
    "                                 columns=outcomes.columns)\n"
   ]
  },
  {
   "cell_type": "code",
   "execution_count": 97,
   "id": "49316f29",
   "metadata": {},
   "outputs": [
    {
     "data": {
      "text/plain": [
       "(46, 7)"
      ]
     },
     "execution_count": 97,
     "metadata": {},
     "output_type": "execute_result"
    }
   ],
   "source": [
    "outcomes.shape"
   ]
  },
  {
   "cell_type": "markdown",
   "metadata": {},
   "source": [
    "## Modelling "
   ]
  },
  {
   "cell_type": "markdown",
   "metadata": {},
   "source": [
    "#### Extracting Train/Test Splits "
   ]
  },
  {
   "cell_type": "code",
   "execution_count": 98,
   "metadata": {},
   "outputs": [
    {
     "name": "stderr",
     "output_type": "stream",
     "text": [
      "c:\\Users\\jreyna\\AppData\\Local\\r-miniconda\\lib\\site-packages\\scipy\\stats\\_stats_py.py:4916: ConstantInputWarning: An input array is constant; the correlation coefficient is not defined.\n",
      "  warnings.warn(stats.ConstantInputWarning(warn_msg))\n",
      "c:\\Users\\jreyna\\AppData\\Local\\r-miniconda\\lib\\site-packages\\scipy\\stats\\_stats_py.py:4916: ConstantInputWarning: An input array is constant; the correlation coefficient is not defined.\n",
      "  warnings.warn(stats.ConstantInputWarning(warn_msg))\n",
      "c:\\Users\\jreyna\\AppData\\Local\\r-miniconda\\lib\\site-packages\\scipy\\stats\\_stats_py.py:4916: ConstantInputWarning: An input array is constant; the correlation coefficient is not defined.\n",
      "  warnings.warn(stats.ConstantInputWarning(warn_msg))\n",
      "c:\\Users\\jreyna\\AppData\\Local\\r-miniconda\\lib\\site-packages\\scipy\\stats\\_stats_py.py:4916: ConstantInputWarning: An input array is constant; the correlation coefficient is not defined.\n",
      "  warnings.warn(stats.ConstantInputWarning(warn_msg))\n",
      "c:\\Users\\jreyna\\AppData\\Local\\r-miniconda\\lib\\site-packages\\scipy\\stats\\_stats_py.py:4916: ConstantInputWarning: An input array is constant; the correlation coefficient is not defined.\n",
      "  warnings.warn(stats.ConstantInputWarning(warn_msg))\n",
      "c:\\Users\\jreyna\\AppData\\Local\\r-miniconda\\lib\\site-packages\\scipy\\stats\\_stats_py.py:4916: ConstantInputWarning: An input array is constant; the correlation coefficient is not defined.\n",
      "  warnings.warn(stats.ConstantInputWarning(warn_msg))\n",
      "c:\\Users\\jreyna\\AppData\\Local\\r-miniconda\\lib\\site-packages\\scipy\\stats\\_stats_py.py:4916: ConstantInputWarning: An input array is constant; the correlation coefficient is not defined.\n",
      "  warnings.warn(stats.ConstantInputWarning(warn_msg))\n",
      "c:\\Users\\jreyna\\AppData\\Local\\r-miniconda\\lib\\site-packages\\scipy\\stats\\_stats_py.py:4916: ConstantInputWarning: An input array is constant; the correlation coefficient is not defined.\n",
      "  warnings.warn(stats.ConstantInputWarning(warn_msg))\n",
      "c:\\Users\\jreyna\\AppData\\Local\\r-miniconda\\lib\\site-packages\\scipy\\stats\\_stats_py.py:4916: ConstantInputWarning: An input array is constant; the correlation coefficient is not defined.\n",
      "  warnings.warn(stats.ConstantInputWarning(warn_msg))\n"
     ]
    }
   ],
   "source": [
    "# constructing the model object\n",
    "# use max_iter as needed\n",
    "if cmodel in ['lr']:\n",
    "    lr_model = cmodel_function()\n",
    "elif cmodel in ['lasso', 'elastic_net', 'lasso_cv', 'elastic_net_cv']:\n",
    "    lr_model = cmodel_function(max_iter=100000)\n",
    "\n",
    "\n",
    "# setting up necessary vars/objs\n",
    "results = []\n",
    "cv_splitter = KFold(5)\n",
    "cv_splitter.get_n_splits(features['final'], outcomes)\n",
    "\n",
    "for task in outcomes.columns.tolist()[1:]:\n",
    "    \n",
    "    for i, (train_index, test_index) in enumerate(cv_splitter.split(features['final'])):\n",
    "        \n",
    "        # extracting each split of the data\n",
    "        X_train = features['final'].iloc[train_index]\n",
    "        X_test = features['final'].iloc[test_index]\n",
    "        y_train = outcomes[task].iloc[train_index]\n",
    "        y_test = outcomes[task].iloc[test_index]\n",
    "\n",
    "        # fit the model\n",
    "        lr_model.fit(X_train.values, y_train.values)\n",
    "\n",
    "        # make predictions for the test features\n",
    "        preds = lr_model.predict(X_test.values)\n",
    "        \n",
    "        # calculate spearman'\n",
    "        corr = scipy.stats.spearmanr(y_test.values, preds) \n",
    "        results.append([task, i, corr.correlation, corr.pvalue])\n",
    "    \n"
   ]
  },
  {
   "cell_type": "code",
   "execution_count": 99,
   "metadata": {},
   "outputs": [],
   "source": [
    "# convert the results into a df\n",
    "results_df = pd.DataFrame(results)\n",
    "results_df.columns = ['task', 'cv', 'spearman_coef', 'pvalue']\n",
    "results_df['task'] = results_df.task.str.replace('ENSG00000277632', 'CCL3')\n",
    "\n",
    "# save the results for later plotting\n",
    "results_fn = os.path.join(outdir, 'fivefold-cross-validation.results.{}.tsv'.format(cmodel))\n",
    "results_df.to_csv(results_fn, sep='\\t', index=False)"
   ]
  },
  {
   "cell_type": "code",
   "execution_count": 100,
   "metadata": {},
   "outputs": [
    {
     "data": {
      "text/html": [
       "<div>\n",
       "<style scoped>\n",
       "    .dataframe tbody tr th:only-of-type {\n",
       "        vertical-align: middle;\n",
       "    }\n",
       "\n",
       "    .dataframe tbody tr th {\n",
       "        vertical-align: top;\n",
       "    }\n",
       "\n",
       "    .dataframe thead th {\n",
       "        text-align: right;\n",
       "    }\n",
       "</style>\n",
       "<table border=\"1\" class=\"dataframe\">\n",
       "  <thead>\n",
       "    <tr style=\"text-align: right;\">\n",
       "      <th></th>\n",
       "      <th>task</th>\n",
       "      <th>cv</th>\n",
       "      <th>spearman_coef</th>\n",
       "      <th>pvalue</th>\n",
       "    </tr>\n",
       "  </thead>\n",
       "  <tbody>\n",
       "    <tr>\n",
       "      <th>0</th>\n",
       "      <td>IgG-PT.day14</td>\n",
       "      <td>0</td>\n",
       "      <td>-0.115152</td>\n",
       "      <td>0.751420</td>\n",
       "    </tr>\n",
       "    <tr>\n",
       "      <th>1</th>\n",
       "      <td>IgG-PT.day14</td>\n",
       "      <td>1</td>\n",
       "      <td>0.650000</td>\n",
       "      <td>0.058073</td>\n",
       "    </tr>\n",
       "    <tr>\n",
       "      <th>2</th>\n",
       "      <td>IgG-PT.day14</td>\n",
       "      <td>2</td>\n",
       "      <td>0.533333</td>\n",
       "      <td>0.139227</td>\n",
       "    </tr>\n",
       "    <tr>\n",
       "      <th>3</th>\n",
       "      <td>IgG-PT.day14</td>\n",
       "      <td>3</td>\n",
       "      <td>0.583333</td>\n",
       "      <td>0.099186</td>\n",
       "    </tr>\n",
       "    <tr>\n",
       "      <th>4</th>\n",
       "      <td>IgG-PT.day14</td>\n",
       "      <td>4</td>\n",
       "      <td>-0.016667</td>\n",
       "      <td>0.966055</td>\n",
       "    </tr>\n",
       "  </tbody>\n",
       "</table>\n",
       "</div>"
      ],
      "text/plain": [
       "           task  cv  spearman_coef    pvalue\n",
       "0  IgG-PT.day14   0      -0.115152  0.751420\n",
       "1  IgG-PT.day14   1       0.650000  0.058073\n",
       "2  IgG-PT.day14   2       0.533333  0.139227\n",
       "3  IgG-PT.day14   3       0.583333  0.099186\n",
       "4  IgG-PT.day14   4      -0.016667  0.966055"
      ]
     },
     "execution_count": 100,
     "metadata": {},
     "output_type": "execute_result"
    }
   ],
   "source": [
    "results_df.head()"
   ]
  },
  {
   "cell_type": "code",
   "execution_count": 101,
   "metadata": {},
   "outputs": [],
   "source": [
    "task_results = results_df.groupby('task')"
   ]
  },
  {
   "cell_type": "code",
   "execution_count": 102,
   "metadata": {},
   "outputs": [],
   "source": [
    "summary_df = task_results.spearman_coef.describe().T"
   ]
  },
  {
   "cell_type": "code",
   "execution_count": 103,
   "metadata": {},
   "outputs": [
    {
     "data": {
      "text/html": [
       "<div>\n",
       "<style scoped>\n",
       "    .dataframe tbody tr th:only-of-type {\n",
       "        vertical-align: middle;\n",
       "    }\n",
       "\n",
       "    .dataframe tbody tr th {\n",
       "        vertical-align: top;\n",
       "    }\n",
       "\n",
       "    .dataframe thead th {\n",
       "        text-align: right;\n",
       "    }\n",
       "</style>\n",
       "<table border=\"1\" class=\"dataframe\">\n",
       "  <thead>\n",
       "    <tr style=\"text-align: right;\">\n",
       "      <th>task</th>\n",
       "      <th>CCL3.day3</th>\n",
       "      <th>CCL3.fold-change-day3/0</th>\n",
       "      <th>IgG-PT.day14</th>\n",
       "      <th>IgG-PT.fold-change-day14/0</th>\n",
       "      <th>Monocytes.day1</th>\n",
       "      <th>Monocytes.fold-change-day1/0</th>\n",
       "    </tr>\n",
       "  </thead>\n",
       "  <tbody>\n",
       "    <tr>\n",
       "      <th>count</th>\n",
       "      <td>1.000000</td>\n",
       "      <td>3.000000</td>\n",
       "      <td>5.000000</td>\n",
       "      <td>2.000000</td>\n",
       "      <td>5.000000</td>\n",
       "      <td>5.000000</td>\n",
       "    </tr>\n",
       "    <tr>\n",
       "      <th>mean</th>\n",
       "      <td>-0.309091</td>\n",
       "      <td>0.031042</td>\n",
       "      <td>0.326970</td>\n",
       "      <td>0.178891</td>\n",
       "      <td>0.734545</td>\n",
       "      <td>0.199091</td>\n",
       "    </tr>\n",
       "    <tr>\n",
       "      <th>std</th>\n",
       "      <td>NaN</td>\n",
       "      <td>0.578343</td>\n",
       "      <td>0.362703</td>\n",
       "      <td>0.053423</td>\n",
       "      <td>0.189949</td>\n",
       "      <td>0.109252</td>\n",
       "    </tr>\n",
       "    <tr>\n",
       "      <th>min</th>\n",
       "      <td>-0.309091</td>\n",
       "      <td>-0.636364</td>\n",
       "      <td>-0.115152</td>\n",
       "      <td>0.141115</td>\n",
       "      <td>0.406061</td>\n",
       "      <td>0.078788</td>\n",
       "    </tr>\n",
       "    <tr>\n",
       "      <th>25%</th>\n",
       "      <td>-0.309091</td>\n",
       "      <td>-0.145907</td>\n",
       "      <td>-0.016667</td>\n",
       "      <td>0.160003</td>\n",
       "      <td>0.733333</td>\n",
       "      <td>0.083333</td>\n",
       "    </tr>\n",
       "    <tr>\n",
       "      <th>50%</th>\n",
       "      <td>-0.309091</td>\n",
       "      <td>0.344550</td>\n",
       "      <td>0.533333</td>\n",
       "      <td>0.178891</td>\n",
       "      <td>0.833333</td>\n",
       "      <td>0.250000</td>\n",
       "    </tr>\n",
       "    <tr>\n",
       "      <th>75%</th>\n",
       "      <td>-0.309091</td>\n",
       "      <td>0.364745</td>\n",
       "      <td>0.583333</td>\n",
       "      <td>0.197779</td>\n",
       "      <td>0.850000</td>\n",
       "      <td>0.283333</td>\n",
       "    </tr>\n",
       "    <tr>\n",
       "      <th>max</th>\n",
       "      <td>-0.309091</td>\n",
       "      <td>0.384941</td>\n",
       "      <td>0.650000</td>\n",
       "      <td>0.216667</td>\n",
       "      <td>0.850000</td>\n",
       "      <td>0.300000</td>\n",
       "    </tr>\n",
       "  </tbody>\n",
       "</table>\n",
       "</div>"
      ],
      "text/plain": [
       "task   CCL3.day3  CCL3.fold-change-day3/0  IgG-PT.day14  \\\n",
       "count   1.000000                 3.000000      5.000000   \n",
       "mean   -0.309091                 0.031042      0.326970   \n",
       "std          NaN                 0.578343      0.362703   \n",
       "min    -0.309091                -0.636364     -0.115152   \n",
       "25%    -0.309091                -0.145907     -0.016667   \n",
       "50%    -0.309091                 0.344550      0.533333   \n",
       "75%    -0.309091                 0.364745      0.583333   \n",
       "max    -0.309091                 0.384941      0.650000   \n",
       "\n",
       "task   IgG-PT.fold-change-day14/0  Monocytes.day1  \\\n",
       "count                    2.000000        5.000000   \n",
       "mean                     0.178891        0.734545   \n",
       "std                      0.053423        0.189949   \n",
       "min                      0.141115        0.406061   \n",
       "25%                      0.160003        0.733333   \n",
       "50%                      0.178891        0.833333   \n",
       "75%                      0.197779        0.850000   \n",
       "max                      0.216667        0.850000   \n",
       "\n",
       "task   Monocytes.fold-change-day1/0  \n",
       "count                      5.000000  \n",
       "mean                       0.199091  \n",
       "std                        0.109252  \n",
       "min                        0.078788  \n",
       "25%                        0.083333  \n",
       "50%                        0.250000  \n",
       "75%                        0.283333  \n",
       "max                        0.300000  "
      ]
     },
     "execution_count": 103,
     "metadata": {},
     "output_type": "execute_result"
    }
   ],
   "source": [
    "summary_df"
   ]
  },
  {
   "cell_type": "code",
   "execution_count": 104,
   "metadata": {},
   "outputs": [
    {
     "data": {
      "image/png": "[encoded data removed]",
      "text/plain": [
       "<Figure size 640x480 with 1 Axes>"
      ]
     },
     "metadata": {},
     "output_type": "display_data"
    }
   ],
   "source": [
    "fig, ax = plt.subplots()\n",
    "\n",
    "# add boundary areas\n",
    "alpha = 0.05\n",
    "ax.add_patch(Rectangle((-1, -1), 7, 0.5, facecolor='red', alpha=alpha))\n",
    "ax.add_patch(Rectangle((-1, -0.5), 7, 1, facecolor='yellow', alpha=alpha))\n",
    "ax.add_patch(Rectangle((-1, 0.5), 7, 0.5, facecolor='green', alpha=alpha))\n",
    "\n",
    "# add lines\n",
    "alpha = 0.1\n",
    "ls = 'dashed'\n",
    "ax.hlines(y=0, xmin=-1, xmax=6, color='black', alpha=alpha, linestyles=ls)\n",
    "ax.set_ylim(-1.2, 1.2)\n",
    "\n",
    "# add main plots\n",
    "sns.violinplot(x='task', y='spearman_coef', hue='task', data=results_df, inner='stick', cut=1.75, ax=ax)\n",
    "sns.boxplot(x='task', y='spearman_coef', color='black', data=results_df, width=0.1, saturation=0.1, whis=20, ax=ax)\n",
    "\n",
    "# rotate xticks\n",
    "ax.tick_params(axis='x', labelrotation=75)\n",
    "\n",
    "fig_fn = os.path.join(outdir, 'fivefold-cross-validation.violinplot.{}.png'.format(cmodel))\n",
    "fig.savefig(fig_fn, dpi=600, bbox_inches='tight')"
   ]
  },
  {
   "cell_type": "code",
   "execution_count": null,
   "metadata": {},
   "outputs": [],
   "source": []
  },
  {
   "cell_type": "code",
   "execution_count": null,
   "metadata": {},
   "outputs": [],
   "source": []
  },
  {
   "cell_type": "code",
   "execution_count": null,
   "metadata": {},
   "outputs": [],
   "source": []
  },
  {
   "cell_type": "code",
   "execution_count": null,
   "metadata": {},
   "outputs": [],
   "source": []
  },
  {
   "cell_type": "code",
   "execution_count": null,
   "metadata": {},
   "outputs": [],
   "source": []
  },
  {
   "cell_type": "code",
   "execution_count": null,
   "metadata": {},
   "outputs": [],
   "source": []
  },
  {
   "cell_type": "code",
   "execution_count": null,
   "metadata": {},
   "outputs": [],
   "source": []
  },
  {
   "cell_type": "code",
   "execution_count": null,
   "metadata": {},
   "outputs": [],
   "source": []
  },
  {
   "cell_type": "code",
   "execution_count": null,
   "metadata": {},
   "outputs": [],
   "source": []
  },
  {
   "cell_type": "code",
   "execution_count": null,
   "metadata": {},
   "outputs": [],
   "source": []
  },
  {
   "cell_type": "code",
   "execution_count": null,
   "metadata": {},
   "outputs": [],
   "source": []
  },
  {
   "cell_type": "code",
   "execution_count": null,
   "metadata": {},
   "outputs": [],
   "source": []
  }
 ],
 "metadata": {
  "kernelspec": {
   "display_name": "loopcatalog",
   "language": "python",
   "name": "python3"
  },
  "language_info": {
   "codemirror_mode": {
    "name": "ipython",
    "version": 3
   },
   "file_extension": ".py",
   "mimetype": "text/x-python",
   "name": "python",
   "nbconvert_exporter": "python",
   "pygments_lexer": "ipython3",
   "version": "3.8.3"
  }
 },
 "nbformat": 4,
 "nbformat_minor": 5
}

{
 "cells": [
  {
   "cell_type": "code",
   "execution_count": 166,
   "id": "a6087f3f",
   "metadata": {},
   "outputs": [],
   "source": [
    "import os\n",
    "import numpy as np\n",
    "import pandas as pd \n",
    "import glob\n",
    "from sklearn.linear_model import LinearRegression, Lasso, ElasticNet, LassoCV, ElasticNetCV\n",
    "from sklearn.model_selection import train_test_split\n",
    "from sklearn.model_selection import KFold\n",
    "import scipy.stats\n",
    "import seaborn as sns\n",
    "import matplotlib.pyplot as plt\n",
    "from matplotlib.patches import Rectangle\n",
    "\n",
    "# navigate to the project folder\n",
    "os.chdir('C:/Users/jreyna/Documents/Projects/cmi-pb-multiomics/third_challenge')\n",
    "\n",
    "# setting the output dir\n",
    "outdir = 'results/main/model_devel/'\n",
    "os.makedirs(outdir, exist_ok=True)"
   ]
  },
  {
   "cell_type": "code",
   "execution_count": 167,
   "id": "16de2a8d",
   "metadata": {},
   "outputs": [],
   "source": [
    "model_dict = {'lr': LinearRegression, \n",
    "              'lasso': Lasso,\n",
    "              'elastic_net': ElasticNet, \n",
    "              'lasso_cv': LassoCV,\n",
    "              'elastic_net_cv': ElasticNetCV}\n",
    "\n",
    "cmodel = 'lr'\n",
    "#cmodel = 'lasso'\n",
    "#cmodel = 'elastic_net'\n",
    "#cmodel = 'lasso_cv'\n",
    "#cmodel = 'elastic_net_cv'\n",
    "cmodel_function = model_dict[cmodel]"
   ]
  },
  {
   "cell_type": "markdown",
   "id": "d1c194bf",
   "metadata": {},
   "source": [
    "## Loading the loading matrices"
   ]
  },
  {
   "cell_type": "code",
   "execution_count": 168,
   "id": "827b4eaf",
   "metadata": {},
   "outputs": [],
   "source": [
    "loadings = {} \n",
    "tpl = \"results/main/cmi_pb_datasets/processed/training_data/*.jive-loadings.tsv\"\n",
    "for loading_fn in glob.glob(tpl):\n",
    "    \n",
    "    bn = os.path.basename(loading_fn)\n",
    "    assay = bn.split('.')[0]\n",
    "    loadings_matrix = pd.read_table(loading_fn)\n",
    "    loadings[assay] = loadings_matrix"
   ]
  },
  {
   "cell_type": "markdown",
   "id": "efc2c8b0",
   "metadata": {},
   "source": [
    "## Loading the input data"
   ]
  },
  {
   "cell_type": "code",
   "execution_count": 169,
   "id": "794ddcec",
   "metadata": {},
   "outputs": [],
   "source": [
    "# setting up dictionaries to load data and results\n",
    "features = {}\n",
    "outcomes = {}"
   ]
  },
  {
   "cell_type": "markdown",
   "id": "06d6ee43",
   "metadata": {},
   "source": [
    "#### Extracting Features (calculating the reduced form of each omic)"
   ]
  },
  {
   "cell_type": "code",
   "execution_count": 170,
   "id": "697e1ff8",
   "metadata": {},
   "outputs": [],
   "source": [
    "with open('results/main/cmi_pb_datasets/processed/training_data/common_samples.txt', 'r') as f:\n",
    "    common_samples = [int(x.strip()) for x in f.readlines()]"
   ]
  },
  {
   "cell_type": "code",
   "execution_count": 171,
   "id": "f41479da",
   "metadata": {},
   "outputs": [],
   "source": [
    "tpl = 'results/main/cmi_pb_datasets/processed/training_data/*.training-data.tsv'\n",
    "for raw_fn in glob.glob(tpl):  \n",
    "    \n",
    "    bn = os.path.basename(raw_fn)\n",
    "    assay = bn.split('.')[0]\n",
    "    \n",
    "    # Loading the raw matrices\n",
    "    raw = pd.read_table(raw_fn, index_col=0, header=0)\n",
    "    shared_columns = loadings[assay].index.tolist()\n",
    "    raw = raw.loc[common_samples, shared_columns]\n",
    "    raw_array = np.matrix(raw.values)\n",
    "    \n",
    "    ## Calculating the sample factor matrix\n",
    "    loadings_array = np.matrix(loadings[assay].values)\n",
    "    sample_factors = raw_array * loadings_array\n",
    "\n",
    "    tdf = pd.DataFrame(sample_factors) \n",
    "    tdf.columns = ['{}-{}'.format(assay, i) for i in range(sample_factors.shape[1])]\n",
    "    features[assay] = tdf\n",
    "    features[assay].index = raw.index.tolist()"
   ]
  },
  {
   "cell_type": "code",
   "execution_count": 172,
   "id": "0265e259",
   "metadata": {},
   "outputs": [],
   "source": [
    "features['final'] = pd.concat([features['pbmc_cell_frequency'],\n",
    "                                     features['plasma_cytokine_concentration'],\n",
    "                                     features['pbmc_gene_expression'],\n",
    "                                     features['plasma_ab_titer']], axis=1)"
   ]
  },
  {
   "cell_type": "code",
   "execution_count": 173,
   "id": "676268db",
   "metadata": {},
   "outputs": [
    {
     "data": {
      "text/html": [
       "<div>\n",
       "<style scoped>\n",
       "    .dataframe tbody tr th:only-of-type {\n",
       "        vertical-align: middle;\n",
       "    }\n",
       "\n",
       "    .dataframe tbody tr th {\n",
       "        vertical-align: top;\n",
       "    }\n",
       "\n",
       "    .dataframe thead th {\n",
       "        text-align: right;\n",
       "    }\n",
       "</style>\n",
       "<table border=\"1\" class=\"dataframe\">\n",
       "  <thead>\n",
       "    <tr style=\"text-align: right;\">\n",
       "      <th></th>\n",
       "      <th>pbmc_cell_frequency-0</th>\n",
       "      <th>pbmc_cell_frequency-1</th>\n",
       "      <th>pbmc_cell_frequency-2</th>\n",
       "      <th>pbmc_cell_frequency-3</th>\n",
       "      <th>pbmc_cell_frequency-4</th>\n",
       "      <th>pbmc_cell_frequency-5</th>\n",
       "      <th>pbmc_cell_frequency-6</th>\n",
       "      <th>pbmc_cell_frequency-7</th>\n",
       "      <th>pbmc_cell_frequency-8</th>\n",
       "      <th>pbmc_cell_frequency-9</th>\n",
       "      <th>...</th>\n",
       "      <th>plasma_ab_titer-0</th>\n",
       "      <th>plasma_ab_titer-1</th>\n",
       "      <th>plasma_ab_titer-2</th>\n",
       "      <th>plasma_ab_titer-3</th>\n",
       "      <th>plasma_ab_titer-4</th>\n",
       "      <th>plasma_ab_titer-5</th>\n",
       "      <th>plasma_ab_titer-6</th>\n",
       "      <th>plasma_ab_titer-7</th>\n",
       "      <th>plasma_ab_titer-8</th>\n",
       "      <th>plasma_ab_titer-9</th>\n",
       "    </tr>\n",
       "  </thead>\n",
       "  <tbody>\n",
       "    <tr>\n",
       "      <th>4</th>\n",
       "      <td>-0.899481</td>\n",
       "      <td>-0.248604</td>\n",
       "      <td>-10.404743</td>\n",
       "      <td>-2.675013</td>\n",
       "      <td>-3.905235</td>\n",
       "      <td>-5.722349</td>\n",
       "      <td>-7.721928</td>\n",
       "      <td>-2.952878</td>\n",
       "      <td>-5.112688</td>\n",
       "      <td>2.449012</td>\n",
       "      <td>...</td>\n",
       "      <td>207.721176</td>\n",
       "      <td>-4143.724467</td>\n",
       "      <td>-10570.890199</td>\n",
       "      <td>1595.084781</td>\n",
       "      <td>209.779727</td>\n",
       "      <td>943.404765</td>\n",
       "      <td>5883.295445</td>\n",
       "      <td>819.760559</td>\n",
       "      <td>2550.683669</td>\n",
       "      <td>-946.987188</td>\n",
       "    </tr>\n",
       "    <tr>\n",
       "      <th>6</th>\n",
       "      <td>-0.975855</td>\n",
       "      <td>-4.822534</td>\n",
       "      <td>-17.700483</td>\n",
       "      <td>-3.526054</td>\n",
       "      <td>-7.882918</td>\n",
       "      <td>-7.843105</td>\n",
       "      <td>-13.171058</td>\n",
       "      <td>-10.353981</td>\n",
       "      <td>-13.950849</td>\n",
       "      <td>6.104866</td>\n",
       "      <td>...</td>\n",
       "      <td>-545.955990</td>\n",
       "      <td>-1388.340288</td>\n",
       "      <td>-1276.091581</td>\n",
       "      <td>1500.077146</td>\n",
       "      <td>-384.746655</td>\n",
       "      <td>-1374.882186</td>\n",
       "      <td>859.613555</td>\n",
       "      <td>-803.365398</td>\n",
       "      <td>675.752387</td>\n",
       "      <td>-702.198650</td>\n",
       "    </tr>\n",
       "    <tr>\n",
       "      <th>11</th>\n",
       "      <td>-3.368699</td>\n",
       "      <td>1.786367</td>\n",
       "      <td>-21.795938</td>\n",
       "      <td>-6.008265</td>\n",
       "      <td>-13.630948</td>\n",
       "      <td>-13.465657</td>\n",
       "      <td>-8.068319</td>\n",
       "      <td>-5.275370</td>\n",
       "      <td>-18.459526</td>\n",
       "      <td>5.349103</td>\n",
       "      <td>...</td>\n",
       "      <td>102.573975</td>\n",
       "      <td>-4643.945910</td>\n",
       "      <td>-11476.334036</td>\n",
       "      <td>2030.730576</td>\n",
       "      <td>-292.160455</td>\n",
       "      <td>-21.900707</td>\n",
       "      <td>6760.526613</td>\n",
       "      <td>-110.648668</td>\n",
       "      <td>3921.619381</td>\n",
       "      <td>-1349.028956</td>\n",
       "    </tr>\n",
       "    <tr>\n",
       "      <th>15</th>\n",
       "      <td>-2.108057</td>\n",
       "      <td>2.420816</td>\n",
       "      <td>-18.423573</td>\n",
       "      <td>-1.754734</td>\n",
       "      <td>-4.328800</td>\n",
       "      <td>-8.064753</td>\n",
       "      <td>-17.031443</td>\n",
       "      <td>-7.080065</td>\n",
       "      <td>-10.975928</td>\n",
       "      <td>9.315590</td>\n",
       "      <td>...</td>\n",
       "      <td>-1116.572078</td>\n",
       "      <td>-2887.424132</td>\n",
       "      <td>-2598.234794</td>\n",
       "      <td>3242.620403</td>\n",
       "      <td>-898.165258</td>\n",
       "      <td>-2944.937584</td>\n",
       "      <td>1772.398294</td>\n",
       "      <td>-1538.736369</td>\n",
       "      <td>1157.554280</td>\n",
       "      <td>-1360.770398</td>\n",
       "    </tr>\n",
       "    <tr>\n",
       "      <th>17</th>\n",
       "      <td>-2.081917</td>\n",
       "      <td>1.393675</td>\n",
       "      <td>-18.229594</td>\n",
       "      <td>-1.359508</td>\n",
       "      <td>-7.673578</td>\n",
       "      <td>-9.737192</td>\n",
       "      <td>-13.270752</td>\n",
       "      <td>-2.763658</td>\n",
       "      <td>-16.151179</td>\n",
       "      <td>6.592004</td>\n",
       "      <td>...</td>\n",
       "      <td>-2211.872895</td>\n",
       "      <td>-5732.121659</td>\n",
       "      <td>-11856.478106</td>\n",
       "      <td>6536.143169</td>\n",
       "      <td>1564.434357</td>\n",
       "      <td>642.946422</td>\n",
       "      <td>5429.275067</td>\n",
       "      <td>438.605936</td>\n",
       "      <td>-533.225884</td>\n",
       "      <td>-3831.388535</td>\n",
       "    </tr>\n",
       "  </tbody>\n",
       "</table>\n",
       "<p>5 rows × 40 columns</p>\n",
       "</div>"
      ],
      "text/plain": [
       "    pbmc_cell_frequency-0  pbmc_cell_frequency-1  pbmc_cell_frequency-2  \\\n",
       "4               -0.899481              -0.248604             -10.404743   \n",
       "6               -0.975855              -4.822534             -17.700483   \n",
       "11              -3.368699               1.786367             -21.795938   \n",
       "15              -2.108057               2.420816             -18.423573   \n",
       "17              -2.081917               1.393675             -18.229594   \n",
       "\n",
       "    pbmc_cell_frequency-3  pbmc_cell_frequency-4  pbmc_cell_frequency-5  \\\n",
       "4               -2.675013              -3.905235              -5.722349   \n",
       "6               -3.526054              -7.882918              -7.843105   \n",
       "11              -6.008265             -13.630948             -13.465657   \n",
       "15              -1.754734              -4.328800              -8.064753   \n",
       "17              -1.359508              -7.673578              -9.737192   \n",
       "\n",
       "    pbmc_cell_frequency-6  pbmc_cell_frequency-7  pbmc_cell_frequency-8  \\\n",
       "4               -7.721928              -2.952878              -5.112688   \n",
       "6              -13.171058             -10.353981             -13.950849   \n",
       "11              -8.068319              -5.275370             -18.459526   \n",
       "15             -17.031443              -7.080065             -10.975928   \n",
       "17             -13.270752              -2.763658             -16.151179   \n",
       "\n",
       "    pbmc_cell_frequency-9  ...  plasma_ab_titer-0  plasma_ab_titer-1  \\\n",
       "4                2.449012  ...         207.721176       -4143.724467   \n",
       "6                6.104866  ...        -545.955990       -1388.340288   \n",
       "11               5.349103  ...         102.573975       -4643.945910   \n",
       "15               9.315590  ...       -1116.572078       -2887.424132   \n",
       "17               6.592004  ...       -2211.872895       -5732.121659   \n",
       "\n",
       "    plasma_ab_titer-2  plasma_ab_titer-3  plasma_ab_titer-4  \\\n",
       "4       -10570.890199        1595.084781         209.779727   \n",
       "6        -1276.091581        1500.077146        -384.746655   \n",
       "11      -11476.334036        2030.730576        -292.160455   \n",
       "15       -2598.234794        3242.620403        -898.165258   \n",
       "17      -11856.478106        6536.143169        1564.434357   \n",
       "\n",
       "    plasma_ab_titer-5  plasma_ab_titer-6  plasma_ab_titer-7  \\\n",
       "4          943.404765        5883.295445         819.760559   \n",
       "6        -1374.882186         859.613555        -803.365398   \n",
       "11         -21.900707        6760.526613        -110.648668   \n",
       "15       -2944.937584        1772.398294       -1538.736369   \n",
       "17         642.946422        5429.275067         438.605936   \n",
       "\n",
       "    plasma_ab_titer-8  plasma_ab_titer-9  \n",
       "4         2550.683669        -946.987188  \n",
       "6          675.752387        -702.198650  \n",
       "11        3921.619381       -1349.028956  \n",
       "15        1157.554280       -1360.770398  \n",
       "17        -533.225884       -3831.388535  \n",
       "\n",
       "[5 rows x 40 columns]"
      ]
     },
     "execution_count": 173,
     "metadata": {},
     "output_type": "execute_result"
    }
   ],
   "source": [
    "features['final'].head()"
   ]
  },
  {
   "cell_type": "markdown",
   "id": "adfc165a",
   "metadata": {},
   "source": [
    "#### Extracting Outcomes"
   ]
  },
  {
   "cell_type": "code",
   "execution_count": 174,
   "id": "d618df23",
   "metadata": {},
   "outputs": [],
   "source": [
    "fn = 'results/main/cmi_pb_datasets/processed/all_versus_all/harmonized/task_matrix.common_names.mfi_raw.tsv'\n",
    "outcomes = pd.read_table(fn)\n",
    "outcomes = outcomes.loc[outcomes.subject_id.isin(common_samples)]"
   ]
  },
  {
   "cell_type": "code",
   "execution_count": 175,
   "id": "49316f29",
   "metadata": {},
   "outputs": [
    {
     "data": {
      "text/plain": [
       "(46, 7)"
      ]
     },
     "execution_count": 175,
     "metadata": {},
     "output_type": "execute_result"
    }
   ],
   "source": [
    "outcomes.shape"
   ]
  },
  {
   "cell_type": "markdown",
   "metadata": {},
   "source": [
    "## Modelling "
   ]
  },
  {
   "cell_type": "markdown",
   "metadata": {},
   "source": [
    "#### Extracting Train/Test Splits "
   ]
  },
  {
   "cell_type": "code",
   "execution_count": 176,
   "metadata": {},
   "outputs": [],
   "source": [
    "# constructing the model object\n",
    "# use max_iter as needed\n",
    "if cmodel in ['lr']:\n",
    "    lr_model = cmodel_function()\n",
    "elif cmodel in ['lasso', 'elastic_net', 'lasso_cv', 'elastic_net_cv']:\n",
    "    lr_model = cmodel_function(max_iter=100000)\n",
    "\n",
    "# setting up necessary vars/objs\n",
    "results = []\n",
    "cv_splitter = KFold(5)\n",
    "cv_splitter.get_n_splits(features['final'], outcomes)\n",
    "\n",
    "for task in outcomes.columns.tolist()[1:]:\n",
    "    \n",
    "    for i, (train_index, test_index) in enumerate(cv_splitter.split(features['final'])):\n",
    "        \n",
    "        # extracting each split of the data\n",
    "        X_train = features['final'].iloc[train_index]\n",
    "        X_test = features['final'].iloc[test_index]\n",
    "        y_train = outcomes[task].iloc[train_index]\n",
    "        y_test = outcomes[task].iloc[test_index]\n",
    "\n",
    "        # fit the model\n",
    "        lr_model.fit(X_train.values, y_train.values)\n",
    "\n",
    "        # make predictions for the test features\n",
    "        preds = lr_model.predict(X_test.values)\n",
    "        \n",
    "        # calculate spearman'\n",
    "        corr = scipy.stats.spearmanr(y_test.values, preds) \n",
    "        results.append([task, i, corr.correlation, corr.pvalue])\n",
    "    \n"
   ]
  },
  {
   "cell_type": "code",
   "execution_count": 177,
   "metadata": {},
   "outputs": [],
   "source": [
    "# convert the results into a df\n",
    "results_df = pd.DataFrame(results)\n",
    "results_df.columns = ['task', 'cv', 'spearman_coef', 'pvalue']"
   ]
  },
  {
   "cell_type": "code",
   "execution_count": 178,
   "metadata": {},
   "outputs": [
    {
     "data": {
      "text/html": [
       "<div>\n",
       "<style scoped>\n",
       "    .dataframe tbody tr th:only-of-type {\n",
       "        vertical-align: middle;\n",
       "    }\n",
       "\n",
       "    .dataframe tbody tr th {\n",
       "        vertical-align: top;\n",
       "    }\n",
       "\n",
       "    .dataframe thead th {\n",
       "        text-align: right;\n",
       "    }\n",
       "</style>\n",
       "<table border=\"1\" class=\"dataframe\">\n",
       "  <thead>\n",
       "    <tr style=\"text-align: right;\">\n",
       "      <th></th>\n",
       "      <th>task</th>\n",
       "      <th>cv</th>\n",
       "      <th>spearman_coef</th>\n",
       "      <th>pvalue</th>\n",
       "    </tr>\n",
       "  </thead>\n",
       "  <tbody>\n",
       "    <tr>\n",
       "      <th>0</th>\n",
       "      <td>IgG-PT.day14</td>\n",
       "      <td>0</td>\n",
       "      <td>-0.296970</td>\n",
       "      <td>0.404702</td>\n",
       "    </tr>\n",
       "    <tr>\n",
       "      <th>1</th>\n",
       "      <td>IgG-PT.day14</td>\n",
       "      <td>1</td>\n",
       "      <td>0.050000</td>\n",
       "      <td>0.898353</td>\n",
       "    </tr>\n",
       "    <tr>\n",
       "      <th>2</th>\n",
       "      <td>IgG-PT.day14</td>\n",
       "      <td>2</td>\n",
       "      <td>0.266667</td>\n",
       "      <td>0.487922</td>\n",
       "    </tr>\n",
       "    <tr>\n",
       "      <th>3</th>\n",
       "      <td>IgG-PT.day14</td>\n",
       "      <td>3</td>\n",
       "      <td>0.166667</td>\n",
       "      <td>0.668231</td>\n",
       "    </tr>\n",
       "    <tr>\n",
       "      <th>4</th>\n",
       "      <td>IgG-PT.day14</td>\n",
       "      <td>4</td>\n",
       "      <td>0.166667</td>\n",
       "      <td>0.668231</td>\n",
       "    </tr>\n",
       "  </tbody>\n",
       "</table>\n",
       "</div>"
      ],
      "text/plain": [
       "           task  cv  spearman_coef    pvalue\n",
       "0  IgG-PT.day14   0      -0.296970  0.404702\n",
       "1  IgG-PT.day14   1       0.050000  0.898353\n",
       "2  IgG-PT.day14   2       0.266667  0.487922\n",
       "3  IgG-PT.day14   3       0.166667  0.668231\n",
       "4  IgG-PT.day14   4       0.166667  0.668231"
      ]
     },
     "execution_count": 178,
     "metadata": {},
     "output_type": "execute_result"
    }
   ],
   "source": [
    "results_df.head()"
   ]
  },
  {
   "cell_type": "code",
   "execution_count": 179,
   "metadata": {},
   "outputs": [],
   "source": [
    "task_results = results_df.groupby('task')"
   ]
  },
  {
   "cell_type": "code",
   "execution_count": 180,
   "metadata": {},
   "outputs": [],
   "source": [
    "summary_df = task_results.spearman_coef.describe().T"
   ]
  },
  {
   "cell_type": "code",
   "execution_count": 181,
   "metadata": {},
   "outputs": [
    {
     "data": {
      "text/html": [
       "<div>\n",
       "<style scoped>\n",
       "    .dataframe tbody tr th:only-of-type {\n",
       "        vertical-align: middle;\n",
       "    }\n",
       "\n",
       "    .dataframe tbody tr th {\n",
       "        vertical-align: top;\n",
       "    }\n",
       "\n",
       "    .dataframe thead th {\n",
       "        text-align: right;\n",
       "    }\n",
       "</style>\n",
       "<table border=\"1\" class=\"dataframe\">\n",
       "  <thead>\n",
       "    <tr style=\"text-align: right;\">\n",
       "      <th>task</th>\n",
       "      <th>ENSG00000277632.day3</th>\n",
       "      <th>ENSG00000277632.fold-change-day3/0</th>\n",
       "      <th>IgG-PT.day14</th>\n",
       "      <th>IgG-PT.fold-change-day14/0</th>\n",
       "      <th>Monocytes.day1</th>\n",
       "      <th>Monocytes.fold-change-day1/0</th>\n",
       "    </tr>\n",
       "  </thead>\n",
       "  <tbody>\n",
       "    <tr>\n",
       "      <th>count</th>\n",
       "      <td>5.000000</td>\n",
       "      <td>5.000000</td>\n",
       "      <td>5.000000</td>\n",
       "      <td>5.000000</td>\n",
       "      <td>5.000000</td>\n",
       "      <td>5.000000</td>\n",
       "    </tr>\n",
       "    <tr>\n",
       "      <th>mean</th>\n",
       "      <td>-0.186364</td>\n",
       "      <td>-0.159697</td>\n",
       "      <td>0.070606</td>\n",
       "      <td>-0.124545</td>\n",
       "      <td>0.178788</td>\n",
       "      <td>0.159091</td>\n",
       "    </tr>\n",
       "    <tr>\n",
       "      <th>std</th>\n",
       "      <td>0.248115</td>\n",
       "      <td>0.482735</td>\n",
       "      <td>0.219335</td>\n",
       "      <td>0.254891</td>\n",
       "      <td>0.415015</td>\n",
       "      <td>0.274339</td>\n",
       "    </tr>\n",
       "    <tr>\n",
       "      <th>min</th>\n",
       "      <td>-0.516667</td>\n",
       "      <td>-0.650000</td>\n",
       "      <td>-0.296970</td>\n",
       "      <td>-0.383333</td>\n",
       "      <td>-0.406061</td>\n",
       "      <td>-0.200000</td>\n",
       "    </tr>\n",
       "    <tr>\n",
       "      <th>25%</th>\n",
       "      <td>-0.266667</td>\n",
       "      <td>-0.350000</td>\n",
       "      <td>0.050000</td>\n",
       "      <td>-0.272727</td>\n",
       "      <td>0.050000</td>\n",
       "      <td>0.078788</td>\n",
       "    </tr>\n",
       "  </tbody>\n",
       "</table>\n",
       "</div>"
      ],
      "text/plain": [
       "task   ENSG00000277632.day3  ENSG00000277632.fold-change-day3/0  IgG-PT.day14  \\\n",
       "count              5.000000                            5.000000      5.000000   \n",
       "mean              -0.186364                           -0.159697      0.070606   \n",
       "std                0.248115                            0.482735      0.219335   \n",
       "min               -0.516667                           -0.650000     -0.296970   \n",
       "25%               -0.266667                           -0.350000      0.050000   \n",
       "\n",
       "task   IgG-PT.fold-change-day14/0  Monocytes.day1  \\\n",
       "count                    5.000000        5.000000   \n",
       "mean                    -0.124545        0.178788   \n",
       "std                      0.254891        0.415015   \n",
       "min                     -0.383333       -0.406061   \n",
       "25%                     -0.272727        0.050000   \n",
       "\n",
       "task   Monocytes.fold-change-day1/0  \n",
       "count                      5.000000  \n",
       "mean                       0.159091  \n",
       "std                        0.274339  \n",
       "min                       -0.200000  \n",
       "25%                        0.078788  "
      ]
     },
     "execution_count": 181,
     "metadata": {},
     "output_type": "execute_result"
    }
   ],
   "source": [
    "summary_df.head()"
   ]
  },
  {
   "cell_type": "code",
   "execution_count": 182,
   "metadata": {},
   "outputs": [
    {
     "data": {
      "image/png": "[encoded data removed]",
      "text/plain": [
       "<Figure size 640x480 with 1 Axes>"
      ]
     },
     "metadata": {},
     "output_type": "display_data"
    }
   ],
   "source": [
    "fig, ax = plt.subplots()\n",
    "\n",
    "# add boundary areas\n",
    "alpha = 0.05\n",
    "ax.add_patch(Rectangle((-1, -1), 7, 0.5, facecolor='red', alpha=alpha))\n",
    "ax.add_patch(Rectangle((-1, -0.5), 7, 1, facecolor='yellow', alpha=alpha))\n",
    "ax.add_patch(Rectangle((-1, 0.5), 7, 0.5, facecolor='green', alpha=alpha))\n",
    "\n",
    "# add lines\n",
    "alpha = 0.1\n",
    "ls = 'dashed'\n",
    "ax.hlines(y=0, xmin=-1, xmax=6, color='black', alpha=alpha, linestyles=ls)\n",
    "ax.set_ylim(-1.2, 1.2)\n",
    "\n",
    "# add main plots\n",
    "sns.violinplot(x='task', y='spearman_coef', hue='task', data=results_df, inner='stick', cut=1.75, ax=ax)\n",
    "sns.boxplot(x='task', y='spearman_coef', color='black', data=results_df, width=0.1, saturation=0.1, whis=20, ax=ax)\n",
    "\n",
    "# rotate xticks\n",
    "ax.tick_params(axis='x', labelrotation=75)\n",
    "\n",
    "fig_fn = os.path.join(outdir, 'fivefold-cross-validation.violinplot.{}.png'.format(cmodel))\n",
    "fig.savefig(fig_fn, dpi=600)"
   ]
  },
  {
   "cell_type": "code",
   "execution_count": null,
   "metadata": {},
   "outputs": [],
   "source": []
  },
  {
   "cell_type": "code",
   "execution_count": null,
   "metadata": {},
   "outputs": [],
   "source": []
  },
  {
   "cell_type": "code",
   "execution_count": null,
   "metadata": {},
   "outputs": [],
   "source": []
  },
  {
   "cell_type": "code",
   "execution_count": null,
   "metadata": {},
   "outputs": [],
   "source": []
  },
  {
   "cell_type": "code",
   "execution_count": null,
   "metadata": {},
   "outputs": [],
   "source": []
  },
  {
   "cell_type": "code",
   "execution_count": null,
   "metadata": {},
   "outputs": [],
   "source": []
  },
  {
   "cell_type": "code",
   "execution_count": null,
   "metadata": {},
   "outputs": [],
   "source": []
  },
  {
   "cell_type": "code",
   "execution_count": null,
   "metadata": {},
   "outputs": [],
   "source": []
  },
  {
   "cell_type": "code",
   "execution_count": null,
   "metadata": {},
   "outputs": [],
   "source": []
  },
  {
   "cell_type": "code",
   "execution_count": null,
   "metadata": {},
   "outputs": [],
   "source": []
  },
  {
   "cell_type": "code",
   "execution_count": null,
   "metadata": {},
   "outputs": [],
   "source": []
  },
  {
   "cell_type": "code",
   "execution_count": null,
   "metadata": {},
   "outputs": [],
   "source": []
  }
 ],
 "metadata": {
  "kernelspec": {
   "display_name": "loopcatalog",
   "language": "python",
   "name": "python3"
  },
  "language_info": {
   "codemirror_mode": {
    "name": "ipython",
    "version": 3
   },
   "file_extension": ".py",
   "mimetype": "text/x-python",
   "name": "python",
   "nbconvert_exporter": "python",
   "pygments_lexer": "ipython3",
   "version": "3.8.3"
  }
 },
 "nbformat": 4,
 "nbformat_minor": 5
}

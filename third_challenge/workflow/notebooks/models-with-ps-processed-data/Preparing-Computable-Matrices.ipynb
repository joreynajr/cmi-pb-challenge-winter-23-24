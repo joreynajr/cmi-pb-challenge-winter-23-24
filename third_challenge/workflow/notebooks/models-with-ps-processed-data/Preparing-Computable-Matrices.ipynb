{
 "cells": [
  {
   "cell_type": "markdown",
   "id": "65268c8b",
   "metadata": {},
   "source": [
    "# Standardize Data - Generalized for Years"
   ]
  },
  {
   "cell_type": "code",
   "execution_count": 1,
   "id": "f4a0440e",
   "metadata": {},
   "outputs": [],
   "source": [
    "import os \n",
    "import pandas as pd \n",
    "import numpy as np\n",
    "os.chdir('C:/Users/jreyna/Documents/Projects/cmi-pb-multiomics/third_challenge')\n",
    "outdir = 'results/main/cmi_pb_datasets/processed/training_data/'\n",
    "os.makedirs(outdir, exist_ok=True)"
   ]
  },
  {
   "cell_type": "markdown",
   "id": "57eda21a",
   "metadata": {},
   "source": [
    "IgG1 and IgG4 day 14 and day 0 values for PT, FHA, and Pertactin"
   ]
  },
  {
   "cell_type": "code",
   "execution_count": 2,
   "id": "97930d64",
   "metadata": {},
   "outputs": [],
   "source": [
    "# setting a list of assays\n",
    "assays = ('plasma_cytokine_concentration', 'pbmc_cell_frequency', 'plasma_ab_titer', 'pbmc_gene_expression')"
   ]
  },
  {
   "cell_type": "markdown",
   "id": "d53da804",
   "metadata": {},
   "source": [
    "## Load the datasets"
   ]
  },
  {
   "cell_type": "code",
   "execution_count": 26,
   "id": "aa35138a",
   "metadata": {},
   "outputs": [],
   "source": [
    "training_years = [2020, 2021]\n",
    "datasets = {'plasma_cytokine_concentration': None,\n",
    "            'pbmc_cell_frequency': None,\n",
    "            'plasma_ab_titer': None,\n",
    "            'pbmc_gene_expression': None}\n",
    "\n",
    "for assay in assays:\n",
    "    tdata = []\n",
    "    for year in training_years:\n",
    "\n",
    "        if assay == 'plasma_ab_titer':\n",
    "            input_fn = 'results/main/cmi_pb_datasets/processed/all_versus_all/harmonized/{}.mfi_raw.{}.pivoted.tsv'\n",
    "        else:\n",
    "            input_fn = 'results/main/cmi_pb_datasets/processed/all_versus_all/harmonized/{}.{}.pivoted.tsv'\n",
    "        input_fn = input_fn.format(assay, year)\n",
    "        tdf = pd.read_table(input_fn)\n",
    "        tdf = tdf.loc[tdf['planned_day_relative_to_boost'] == 0]\n",
    "        tdata.append(tdf)\n",
    "    \n",
    "    data = pd.concat(tdata)\n",
    "    data = data.drop('planned_day_relative_to_boost', axis=1).set_index('subject_id')\n",
    "    output_fn = os.path.join(outdir, '{}.training-data.tsv'.format(assay))\n",
    "    data.to_csv(output_fn, sep='\\t')\n",
    "    "
   ]
  },
  {
   "cell_type": "code",
   "execution_count": null,
   "id": "4675a65b",
   "metadata": {},
   "outputs": [],
   "source": []
  },
  {
   "cell_type": "code",
   "execution_count": null,
   "id": "7f7929c1",
   "metadata": {},
   "outputs": [],
   "source": []
  }
 ],
 "metadata": {
  "kernelspec": {
   "display_name": "loopcatalog",
   "language": "python",
   "name": "python3"
  },
  "language_info": {
   "codemirror_mode": {
    "name": "ipython",
    "version": 3
   },
   "file_extension": ".py",
   "mimetype": "text/x-python",
   "name": "python",
   "nbconvert_exporter": "python",
   "pygments_lexer": "ipython3",
   "version": "3.8.3"
  }
 },
 "nbformat": 4,
 "nbformat_minor": 5
}

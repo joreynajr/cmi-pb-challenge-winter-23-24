{
 "cells": [
  {
   "cell_type": "markdown",
   "id": "65268c8b",
   "metadata": {},
   "source": [
    "# Standardize Data - Generalized for Years"
   ]
  },
  {
   "cell_type": "markdown",
   "id": "0e8384f7",
   "metadata": {},
   "source": [
    "Checklist  \n",
    "- [x] Gene Expression (RNAseq)\n",
    "- [x] Cell Percentages (CyTOF)\n",
    "- [x] Ab Titers\n",
    "- [x] Protein levels (Olink)\n",
    "- [x] Task Vectors\n",
    "- [x] Metadata"
   ]
  },
  {
   "cell_type": "code",
   "execution_count": 1,
   "id": "f4a0440e",
   "metadata": {},
   "outputs": [],
   "source": [
    "import os \n",
    "import pandas as pd \n",
    "import numpy as np\n",
    "os.chdir('C:/Users/jreyna/Documents/Projects/cmi-pb-multiomics/third_challenge')\n",
    "outdir = 'results/main/cmi_pb_datasets/processed/all_versus_all/'\n",
    "os.makedirs(outdir, exist_ok=True)\n",
    "\n",
    "# create a harmonized directory\n",
    "harmony_dir = os.path.join(outdir, 'harmonized/')\n",
    "os.makedirs(harmony_dir, exist_ok=True)"
   ]
  },
  {
   "cell_type": "markdown",
   "id": "57eda21a",
   "metadata": {},
   "source": [
    "IgG1 and IgG4 day 14 and day 0 values for PT, FHA, and Pertactin"
   ]
  },
  {
   "cell_type": "code",
   "execution_count": 2,
   "id": "97930d64",
   "metadata": {},
   "outputs": [],
   "source": [
    "# setting a list of assays\n",
    "assays = ('plasma_cytokine_concentration', 'pbmc_cell_frequency', 'plasma_ab_titer', 'pbmc_gene_expression')"
   ]
  },
  {
   "cell_type": "code",
   "execution_count": 3,
   "id": "ff8fee6a",
   "metadata": {},
   "outputs": [],
   "source": [
    "# loading gencode data\n",
    "gencode = pd.read_table('../shared/refs/gencode/gencode.v38lift37.annotation.protein_coding.bed',\n",
    "                        header=None)\n",
    "gencode.columns = ['chr', 'start', 'end', 'strand', 'gene_id', 'gene_name']\n",
    "gencode['gene_nonversioned_id'] = gencode['gene_id'].str.replace('\\..*', '', regex=True)"
   ]
  },
  {
   "cell_type": "code",
   "execution_count": 4,
   "id": "af7c129f",
   "metadata": {},
   "outputs": [],
   "source": [
    "interm_dir = os.path.join(outdir, 'full')\n",
    "os.makedirs(interm_dir, exist_ok=True)"
   ]
  },
  {
   "cell_type": "markdown",
   "id": "d53da804",
   "metadata": {},
   "source": [
    "## Load the datasets"
   ]
  },
  {
   "cell_type": "code",
   "execution_count": 5,
   "id": "699063d5",
   "metadata": {},
   "outputs": [],
   "source": [
    "years = [2020, 2021, 2022]\n",
    "datasets = {2020: {}, 2021: {}, 2022: {}}\n",
    "ld_or_bds = {2020: 'LD', 2021: 'LD', 2022: 'BD'}"
   ]
  },
  {
   "cell_type": "markdown",
   "id": "b1e5b1bd",
   "metadata": {},
   "source": [
    "#### Parse and process the metadata"
   ]
  },
  {
   "cell_type": "code",
   "execution_count": 6,
   "id": "94fd24f3",
   "metadata": {},
   "outputs": [],
   "source": [
    "for year in years:\n",
    "    \n",
    "    # get ld_or_bd\n",
    "    ld_or_bd = ld_or_bds[year]\n",
    "    \n",
    "    # get specimen and sample table\n",
    "    for metatable in ('subject', 'specimen'): \n",
    "        params = {'year': year, 'ld_or_bd': ld_or_bd, 'mtype': metatable}\n",
    "        fn = 'results/main/cmi_pb_datasets/raw/{year}{ld_or_bd}_{mtype}.tsv'.format(**params)\n",
    "        df = pd.read_table(fn)\n",
    "        datasets[year][metatable] = df\n",
    "    \n",
    "    # get meta master table\n",
    "    subjects = datasets[year]['subject']\n",
    "    specimen = datasets[year]['specimen']\n",
    "    master_meta = subjects.merge(specimen, on='subject_id')\n",
    "    master_meta = master_meta[['subject_id',\n",
    "                               'specimen_id',\n",
    "                               'infancy_vac',\n",
    "                               'biological_sex',\n",
    "                               'year_of_birth',\n",
    "                               'date_of_boost',\n",
    "                               'actual_day_relative_to_boost',\n",
    "                               'planned_day_relative_to_boost',\n",
    "                               'ethnicity',\n",
    "                               'race',\n",
    "                               'dataset',\n",
    "                               'specimen_type',\n",
    "                               'visit']]\n",
    "\n",
    "    datasets[year]['master_meta'] = master_meta\n",
    "\n",
    "    # save meta\n",
    "    meta_fn = os.path.join(interm_dir, 'meta.{year}.pivoted.tsv'.format(**params))\n",
    "    datasets[year]['master_meta'].to_csv(meta_fn, sep='\\t')"
   ]
  },
  {
   "cell_type": "markdown",
   "id": "3cfe4722",
   "metadata": {},
   "source": [
    "#### Parse and process the assay data"
   ]
  },
  {
   "cell_type": "code",
   "execution_count": 7,
   "id": "0f1d7fb5",
   "metadata": {},
   "outputs": [],
   "source": [
    "# code to switch between different MFI's \n",
    "curr_mfi, curr_mfi_name = ('MFI', 'mfi_raw')"
   ]
  },
  {
   "cell_type": "code",
   "execution_count": 8,
   "id": "01d012e2",
   "metadata": {},
   "outputs": [],
   "source": [
    "# defining the meta columns (used to remove columns later one)\n",
    "meta_cols = ['specimen_id', 'infancy_vac', 'biological_sex',\n",
    "                'year_of_birth', 'date_of_boost', 'actual_day_relative_to_boost',\n",
    "                'ethnicity', 'race', 'dataset',\n",
    "                'specimen_type', 'visit']\n"
   ]
  },
  {
   "cell_type": "code",
   "execution_count": 9,
   "id": "78dbd00d",
   "metadata": {},
   "outputs": [
    {
     "name": "stdout",
     "output_type": "stream",
     "text": [
      "year: 2020\n",
      "\tassay: plasma_cytokine_concentration\n",
      "\t\tfn: results/main/cmi_pb_datasets/raw/2020LD_plasma_cytokine_concentration.tsv\n",
      "\tassay: pbmc_cell_frequency\n",
      "\t\tfn: results/main/cmi_pb_datasets/raw/2020LD_pbmc_cell_frequency.tsv\n",
      "\tassay: plasma_ab_titer\n",
      "\t\tfn: results/main/cmi_pb_datasets/raw/2020LD_plasma_ab_titer.tsv\n",
      "\tassay: pbmc_gene_expression\n",
      "\t\tfn: results/main/cmi_pb_datasets/raw/2020LD_pbmc_gene_expression.tsv\n",
      "year: 2021\n",
      "\tassay: plasma_cytokine_concentration\n",
      "\t\tfn: results/main/cmi_pb_datasets/raw/2021LD_plasma_cytokine_concentration.tsv\n",
      "\tassay: pbmc_cell_frequency\n",
      "\t\tfn: results/main/cmi_pb_datasets/raw/2021LD_pbmc_cell_frequency.tsv\n",
      "\tassay: plasma_ab_titer\n",
      "\t\tfn: results/main/cmi_pb_datasets/raw/2021LD_plasma_ab_titer.tsv\n",
      "\tassay: pbmc_gene_expression\n",
      "\t\tfn: results/main/cmi_pb_datasets/raw/2021LD_pbmc_gene_expression.tsv\n",
      "year: 2022\n",
      "\tassay: plasma_cytokine_concentration\n",
      "\t\tfn: results/main/cmi_pb_datasets/raw/2022BD_plasma_cytokine_concentration.tsv\n",
      "\tassay: pbmc_cell_frequency\n",
      "\t\tfn: results/main/cmi_pb_datasets/raw/2022BD_pbmc_cell_frequency.tsv\n",
      "\tassay: plasma_ab_titer\n",
      "\t\tfn: results/main/cmi_pb_datasets/raw/2022BD_plasma_ab_titer.tsv\n",
      "\tassay: pbmc_gene_expression\n",
      "\t\tfn: results/main/cmi_pb_datasets/raw/2022BD_pbmc_gene_expression.tsv\n"
     ]
    }
   ],
   "source": [
    "for year in years:\n",
    "\n",
    "    print('year:', year)\n",
    "    \n",
    "    # get ld_or_bd\n",
    "    ld_or_bd = ld_or_bds[year]\n",
    "    \n",
    "    for i, assay in enumerate(assays): \n",
    "        \n",
    "        print('\\tassay:', assay)\n",
    "        \n",
    "        params = {'year': year, 'ld_or_bd': ld_or_bd, 'mtype': assay}\n",
    "        fn = 'results/main/cmi_pb_datasets/raw/{year}{ld_or_bd}_{mtype}.tsv'.format(**params)\n",
    "\n",
    "        print('\\t\\tfn:', fn) \n",
    "\n",
    "        df = pd.read_table(fn)\n",
    "        \n",
    "        master_meta = datasets[year]['master_meta']\n",
    "\n",
    "        if assays[i] == 'pbmc_gene_expression':\n",
    "            df.loc[:, 'ensembl_gene_id'] = df.loc[:, 'versioned_ensembl_gene_id'].str.replace('\\.[0-9]+', '', regex=True)\n",
    "            df = df.pivot(index='specimen_id', columns='ensembl_gene_id', values='tpm')\n",
    "            df = master_meta.merge(df, on='specimen_id')\n",
    "\n",
    "        elif assays[i] == 'pbmc_cell_frequency':\n",
    "            df = df.pivot(index='specimen_id', columns='cell_type_name', values='percent_live_cell')\n",
    "            df = master_meta.merge(df, on='specimen_id')\n",
    "\n",
    "        elif assays[i] == 'plasma_cytokine_concentration':\n",
    "            #df = df[df['quality_control'] == 'Pass']\n",
    "            df = df[df['protein_expression'] > df['lower_limit_of_quantitation']]\n",
    "            df = df.pivot(index='specimen_id', columns='protein_id', values='protein_expression')\n",
    "            df = master_meta.merge(df, on='specimen_id')      \n",
    "\n",
    "        elif assays[i] == 'plasma_ab_titer':\n",
    "            aglist = ['1% PFA PT', 'PT', 'PRN', 'FHA', 'FIM2/3']\n",
    "            df = df.loc[df.antigen.isin(aglist), :]\n",
    "            df['isotype_antigen'] = df['isotype'] + '-' + df['antigen']\n",
    "            df = df.pivot(index='specimen_id', columns='isotype_antigen', values=curr_mfi)\n",
    "            df = master_meta.merge(df, on='specimen_id')  \n",
    "\n",
    "        datasets[year][assay] = df.drop(meta_cols, axis=1)  "
   ]
  },
  {
   "cell_type": "code",
   "execution_count": 10,
   "id": "5aae310b",
   "metadata": {},
   "outputs": [
    {
     "name": "stdout",
     "output_type": "stream",
     "text": [
      "2020 subject 60\n",
      "2020 specimen 60\n",
      "2020 master_meta 60\n",
      "2020 plasma_cytokine_concentration 18\n",
      "2020 pbmc_cell_frequency 20\n",
      "2020 plasma_ab_titer 58\n",
      "2020 pbmc_gene_expression 36\n",
      "\n",
      "2021 subject 36\n",
      "2021 specimen 36\n",
      "2021 master_meta 36\n",
      "2021 plasma_cytokine_concentration 36\n",
      "2021 pbmc_cell_frequency 33\n",
      "2021 plasma_ab_titer 33\n",
      "2021 pbmc_gene_expression 36\n",
      "\n",
      "2022 subject 22\n",
      "2022 specimen 21\n",
      "2022 master_meta 21\n",
      "2022 plasma_cytokine_concentration 20\n",
      "2022 pbmc_cell_frequency 21\n",
      "2022 plasma_ab_titer 20\n",
      "2022 pbmc_gene_expression 21\n",
      "\n"
     ]
    }
   ],
   "source": [
    "for year in years:\n",
    "    for assay, df in datasets[year].items():\n",
    "        print(year, assay, datasets[year][assay].subject_id.nunique())\n",
    "    print()"
   ]
  },
  {
   "cell_type": "code",
   "execution_count": 37,
   "id": "022e35db",
   "metadata": {},
   "outputs": [
    {
     "name": "stdout",
     "output_type": "stream",
     "text": [
      "year: 2020\n",
      "\tassay: plasma_cytokine_concentration\n",
      "\t\tday: 0 (18, 257)\n",
      "\t\tday: 1 (18, 257)\n",
      "\t\tday: 3 (18, 257)\n",
      "\t\tday: 7 (18, 257)\n",
      "\t\tday: 14 (18, 257)\n",
      "\tassay: pbmc_cell_frequency\n",
      "\t\tday: 0 (20, 27)\n",
      "\t\tday: 1 (20, 27)\n",
      "\t\tday: 3 (20, 27)\n",
      "\t\tday: 7 (20, 27)\n",
      "\t\tday: 14 (20, 27)\n",
      "\tassay: plasma_ab_titer\n",
      "\t\tday: 0 (58, 25)\n",
      "\t\tday: 1 (47, 25)\n",
      "\t\tday: 3 (56, 25)\n",
      "\t\tday: 7 (56, 25)\n",
      "\t\tday: 14 (57, 25)\n",
      "\t\tday: 30 (54, 25)\n",
      "\t\tday: 120 (52, 25)\n",
      "\t\tday: 366 (1, 25)\n",
      "\t\tday: 386 (1, 25)\n",
      "\t\tday: 396 (1, 25)\n",
      "\t\tday: 402 (1, 25)\n",
      "\t\tday: 407 (1, 25)\n",
      "\t\tday: 415 (1, 25)\n",
      "\t\tday: 423 (1, 25)\n",
      "\t\tday: 428 (1, 25)\n",
      "\t\tday: 447 (1, 25)\n",
      "\t\tday: 448 (1, 25)\n",
      "\t\tday: 464 (2, 25)\n",
      "\t\tday: 511 (1, 25)\n",
      "\t\tday: 543 (1, 25)\n",
      "\tassay: pbmc_gene_expression\n",
      "\t\tday: 0 (36, 58304)\n",
      "\t\tday: 1 (36, 58304)\n",
      "\t\tday: 3 (36, 58304)\n",
      "\t\tday: 7 (36, 58304)\n",
      "\t\tday: 14 (36, 58304)\n",
      "year: 2021\n",
      "\tassay: plasma_cytokine_concentration\n",
      "\t\tday: 0 (36, 45)\n",
      "\t\tday: 1 (36, 45)\n",
      "\t\tday: 3 (36, 45)\n",
      "\t\tday: 7 (36, 45)\n",
      "\t\tday: 14 (36, 45)\n",
      "\tassay: pbmc_cell_frequency\n",
      "\t\tday: 0 (33, 52)\n",
      "\t\tday: 1 (33, 52)\n",
      "\t\tday: 3 (33, 52)\n",
      "\t\tday: 7 (33, 52)\n",
      "\t\tday: 14 (33, 52)\n",
      "\tassay: plasma_ab_titer\n",
      "\t\tday: 0 (33, 22)\n",
      "\t\tday: 1 (33, 22)\n",
      "\t\tday: 3 (33, 22)\n",
      "\t\tday: 7 (33, 22)\n",
      "\t\tday: 14 (33, 22)\n",
      "\t\tday: 30 (33, 22)\n",
      "\t\tday: 120 (33, 22)\n",
      "\tassay: pbmc_gene_expression\n",
      "\t\tday: 0 (36, 58304)\n",
      "\t\tday: 1 (36, 58304)\n",
      "\t\tday: 3 (36, 58304)\n",
      "\t\tday: 7 (36, 58304)\n",
      "\t\tday: 14 (36, 58304)\n",
      "year: 2022\n",
      "\tassay: plasma_cytokine_concentration\n",
      "\t\tday: -30 (17, 45)\n",
      "\t\tday: -15 (20, 45)\n",
      "\t\tday: 0 (19, 45)\n",
      "\tassay: pbmc_cell_frequency\n",
      "\t\tday: -30 (20, 52)\n",
      "\t\tday: -15 (21, 52)\n",
      "\t\tday: 0 (21, 52)\n",
      "\tassay: plasma_ab_titer\n",
      "\t\tday: -30 (20, 17)\n",
      "\t\tday: -15 (20, 17)\n",
      "\t\tday: 0 (20, 17)\n",
      "\tassay: pbmc_gene_expression\n",
      "\t\tday: -30 (21, 58304)\n",
      "\t\tday: -15 (21, 58304)\n",
      "\t\tday: 0 (21, 58304)\n"
     ]
    }
   ],
   "source": [
    "for year in years:\n",
    "    print('year:', year)\n",
    "\n",
    "    # save a dataframe for each assay on each day\n",
    "    for assay, df in datasets[year].items():\n",
    "        \n",
    "        if assay in assays:\n",
    "            \n",
    "            print('\\tassay:', assay)\n",
    "            \n",
    "            for day, day_df in df.groupby('planned_day_relative_to_boost'):\n",
    "\n",
    "                if assay == 'ab_titer': \n",
    "                    outfn = os.path.join(interm_dir, '{}.{}.{}.day{}.pivoted.tsv'.format(assay, year, curr_mfi_name, day))\n",
    "                else:\n",
    "                    outfn = os.path.join(interm_dir, '{}.{}.day{}.pivoted.tsv'.format(assay, year, day))\n",
    "\n",
    "                day_df.drop('planned_day_relative_to_boost', axis=1).to_csv(outfn, index=False, sep='\\t')\n",
    "                print('\\t\\tday:', day, day_df.shape)"
   ]
  },
  {
   "cell_type": "markdown",
   "id": "2469c53e",
   "metadata": {},
   "source": [
    "## Standardize RNA-seq"
   ]
  },
  {
   "cell_type": "markdown",
   "id": "f914ba00",
   "metadata": {},
   "source": [
    "The RNA-seq dataset includes a lot more variables and processing so there are many steps we are including for standardization:\n",
    "\n",
    "    1) remove zero variance genes,\n",
    "    2) remove mitochondrial genes, \n",
    "    3) keep expressed genes (defined as those with TPM > 1) in more than a certain proportion of people (cut_filter)\n",
    "    4) intersect genes across all years and harmonize all tables "
   ]
  },
  {
   "cell_type": "code",
   "execution_count": 12,
   "id": "93adf182",
   "metadata": {},
   "outputs": [],
   "source": [
    "# load gene data to find mitochondrial genes\n",
    "mito_genes = gencode.loc[(gencode.chr == 'chrM'), 'gene_nonversioned_id']\n",
    "mito_genes = set(mito_genes.unique().tolist())"
   ]
  },
  {
   "cell_type": "code",
   "execution_count": 13,
   "id": "963f46e8",
   "metadata": {},
   "outputs": [],
   "source": [
    "# value used across both RNA-seq datasets\n",
    "cut_filter = 0.3"
   ]
  },
  {
   "cell_type": "code",
   "execution_count": 14,
   "id": "ae4bd054",
   "metadata": {},
   "outputs": [],
   "source": [
    "for year in datasets.keys():\n",
    "    \n",
    "    # keep the full dt\n",
    "    full_df = datasets[year]['pbmc_gene_expression']\n",
    "    \n",
    "    # find zero variance genes \n",
    "    tmp = full_df.loc[full_df.planned_day_relative_to_boost.isin([0, -15, -30]),:]\n",
    "    tmp = tmp.loc[:, tmp.columns.str.match('ENSG')]\n",
    "    tmpvars = tmp.var()\n",
    "    zero_var_genes = tmpvars[(tmpvars == 0)]\n",
    "    zero_var_genes = set(zero_var_genes.index.tolist())\n",
    "\n",
    "    # locate genes which are expressed\n",
    "    # defined as genes with TPM > 1 in more than 30% of samples \n",
    "    expressed_genes = (tmp > 1).sum() > cut_filter * tmp.shape[0]\n",
    "    expressed_genes = set(expressed_genes.index[expressed_genes.values.tolist()])\n",
    "\n",
    "    # get the final list of genes \n",
    "    keep_genes = expressed_genes.difference(mito_genes).difference(zero_var_genes)\n",
    "    keep_genes = keep_genes.intersection(gencode.gene_nonversioned_id.values.tolist())\n",
    "\n",
    "    # make the final new_rnaseq table\n",
    "    new_rnaseq1 = full_df.loc[:, ~full_df.columns.str.match('ENSG')]\n",
    "    new_rnaseq2 = full_df.loc[:, list(keep_genes)]\n",
    "    datasets[year]['pbmc_gene_expression_std'] = pd.concat([new_rnaseq1, new_rnaseq2], axis=1)\n",
    "    "
   ]
  },
  {
   "cell_type": "markdown",
   "id": "03fb76af",
   "metadata": {},
   "source": [
    "### Harmonize the RNA-seq datasets "
   ]
  },
  {
   "cell_type": "code",
   "execution_count": 15,
   "id": "a40c4c0b",
   "metadata": {},
   "outputs": [],
   "source": [
    "# getting the shared genes accross all years\n",
    "shared_genes = set(datasets[years[0]]['pbmc_gene_expression_std'].columns.str.extract('(ENSG[0-9]+)').dropna()[0])\n",
    "for year in years[1:]:\n",
    "    curr_genes =  set(datasets[year]['pbmc_gene_expression_std'].columns.str.extract('(ENSG[0-9]+)').dropna()[0])\n",
    "    shared_genes = shared_genes.intersection(curr_genes)\n",
    "shared_genes = sorted(shared_genes)"
   ]
  },
  {
   "cell_type": "code",
   "execution_count": 16,
   "id": "3fbce793",
   "metadata": {},
   "outputs": [],
   "source": [
    "# getting harmonized for all years\n",
    "for year in years:\n",
    "    tdf = datasets[year]['pbmc_gene_expression_std']\n",
    "    new_rnaseq1 = tdf.loc[:, ~tdf.columns.str.match('ENSG')]\n",
    "    new_rnaseq2 = tdf.loc[:, shared_genes]\n",
    "    harmonized_df = pd.concat([new_rnaseq1, new_rnaseq2], axis=1)\n",
    "    datasets[year]['pbmc_gene_expression_harmonized'] = harmonized_df"
   ]
  },
  {
   "cell_type": "code",
   "execution_count": 17,
   "id": "26d3be7f",
   "metadata": {},
   "outputs": [],
   "source": [
    "# save harmonized rnaseq\n",
    "# getting harmonized for all years\n",
    "for year in years:\n",
    "    harmonized_fn = os.path.join(harmony_dir, f'pbmc_gene_expression.{year}.pivoted.tsv')\n",
    "    datasets[year]['pbmc_gene_expression_harmonized'].to_csv(harmonized_fn, index=False, sep='\\t')"
   ]
  },
  {
   "cell_type": "markdown",
   "id": "9f3fe623",
   "metadata": {},
   "source": [
    "## Standardize CyTOF"
   ]
  },
  {
   "cell_type": "code",
   "execution_count": 18,
   "id": "74064763",
   "metadata": {},
   "outputs": [],
   "source": [
    "# getting the shared cells accross all years\n",
    "shared_cells = set(datasets[years[0]]['pbmc_cell_frequency'].columns.tolist()[2:])\n",
    "for year in years[1:]:\n",
    "    curr_cells = set(datasets[year]['pbmc_cell_frequency'].columns.tolist()[2:])\n",
    "    shared_cells = shared_cells.intersection(curr_cells)\n",
    "shared_cells = sorted(shared_cells)"
   ]
  },
  {
   "cell_type": "code",
   "execution_count": 19,
   "id": "86fbb46f",
   "metadata": {},
   "outputs": [],
   "source": [
    "# getting harmonized for all years\n",
    "for year in years:\n",
    "    tdf = datasets[year]['pbmc_cell_frequency']\n",
    "    new_cells1 = tdf.loc[:, tdf.columns.tolist()[0:2]]\n",
    "    new_cells2 = tdf.loc[:, shared_cells]\n",
    "    harmonized_df = pd.concat([new_cells1, new_cells2], axis=1)\n",
    "    datasets[year]['pbmc_cell_frequency_harmonized'] = harmonized_df"
   ]
  },
  {
   "cell_type": "code",
   "execution_count": 20,
   "id": "1c33c700",
   "metadata": {},
   "outputs": [],
   "source": [
    "# getting harmonized for all years\n",
    "for year in years:\n",
    "    harmonized_fn = os.path.join(harmony_dir, f'pbmc_cell_frequency.{year}.pivoted.tsv')\n",
    "    datasets[year]['pbmc_cell_frequency_harmonized'].to_csv(harmonized_fn, index=False, sep='\\t')"
   ]
  },
  {
   "cell_type": "markdown",
   "id": "0a8f4918",
   "metadata": {},
   "source": [
    "## Standardize Ab Titers"
   ]
  },
  {
   "cell_type": "code",
   "execution_count": 21,
   "id": "160c4c19",
   "metadata": {},
   "outputs": [],
   "source": [
    "# getting the shared proteins accross all years\n",
    "shared_proteins = set(datasets[years[0]]['plasma_ab_titer'].columns.tolist()[2:])\n",
    "for year in years[1:]:\n",
    "    curr_proteins = set(datasets[year]['plasma_ab_titer'].columns.tolist()[2:])\n",
    "    shared_proteins = shared_proteins.intersection(curr_proteins)\n",
    "shared_proteins = sorted(shared_proteins)"
   ]
  },
  {
   "cell_type": "code",
   "execution_count": 22,
   "id": "c1054cc3",
   "metadata": {},
   "outputs": [],
   "source": [
    "# getting harmonized for all years\n",
    "for year in years:\n",
    "    tdf = datasets[year]['plasma_ab_titer']\n",
    "    new_proteins1 = tdf.loc[:, tdf.columns.tolist()[0:2]]\n",
    "    new_proteins2 = tdf.loc[:, shared_proteins]\n",
    "    harmonized_df = pd.concat([new_proteins1, new_proteins2], axis=1)\n",
    "    datasets[year]['plasma_ab_titer_harmonized'] = harmonized_df"
   ]
  },
  {
   "cell_type": "code",
   "execution_count": 23,
   "id": "21070cff",
   "metadata": {},
   "outputs": [],
   "source": [
    "# getting harmonized for all years\n",
    "for year in years:\n",
    "    harmonized_fn = os.path.join(harmony_dir, f'plasma_ab_titer.{curr_mfi_name}.{year}.pivoted.tsv')\n",
    "    datasets[year]['plasma_ab_titer_harmonized'].to_csv(harmonized_fn, index=False, sep='\\t')"
   ]
  },
  {
   "cell_type": "markdown",
   "id": "7ea157a2",
   "metadata": {},
   "source": [
    "## Standardize Cytokine Concentrations"
   ]
  },
  {
   "cell_type": "code",
   "execution_count": 24,
   "id": "21c66c2b",
   "metadata": {},
   "outputs": [],
   "source": [
    "# getting the shared proteins accross all years\n",
    "shared_proteins = set(datasets[years[0]]['plasma_cytokine_concentration'].columns.tolist()[2:])\n",
    "for year in years[1:]:\n",
    "    curr_proteins = set(datasets[year]['plasma_cytokine_concentration'].columns.tolist()[2:])\n",
    "    shared_proteins = shared_proteins.intersection(curr_proteins)\n",
    "shared_proteins = sorted(shared_proteins)"
   ]
  },
  {
   "cell_type": "code",
   "execution_count": 25,
   "id": "dfe51b7a",
   "metadata": {},
   "outputs": [],
   "source": [
    "# getting harmonized for all years\n",
    "for year in years:\n",
    "    tdf = datasets[year]['plasma_cytokine_concentration']\n",
    "    new_proteins1 = tdf.loc[:, tdf.columns.tolist()[0:2]]\n",
    "    new_proteins2 = tdf.loc[:, shared_proteins]\n",
    "    harmonized_df = pd.concat([new_proteins1, new_proteins2], axis=1)\n",
    "    datasets[year]['plasma_cytokine_concentration_harmonized'] = harmonized_df"
   ]
  },
  {
   "cell_type": "code",
   "execution_count": 26,
   "id": "6dd9ec8d",
   "metadata": {},
   "outputs": [],
   "source": [
    "# getting harmonized for all years\n",
    "for year in years:\n",
    "    harmonized_fn = os.path.join(harmony_dir, f'plasma_cytokine_concentration.{year}.pivoted.tsv')\n",
    "    datasets[year]['plasma_cytokine_concentration_harmonized'].to_csv(harmonized_fn, index=False, sep='\\t')"
   ]
  },
  {
   "cell_type": "markdown",
   "id": "015153cb",
   "metadata": {},
   "source": [
    "## Providing all task vectors for training"
   ]
  },
  {
   "cell_type": "markdown",
   "id": "f44ea441",
   "metadata": {},
   "source": [
    "The tasks are described here: https://www.cmi-pb.org/blog/prediction-challenge-overview/#Prediction%20challenge%20tasks "
   ]
  },
  {
   "cell_type": "code",
   "execution_count": 27,
   "id": "f30ad7a7",
   "metadata": {},
   "outputs": [],
   "source": [
    "from IPython.display import display"
   ]
  },
  {
   "cell_type": "code",
   "execution_count": 28,
   "id": "a38b7a14",
   "metadata": {},
   "outputs": [],
   "source": [
    "# Loading the table describing each task \n",
    "tasks = pd.read_table('results/refs/tasks.tsv')"
   ]
  },
  {
   "cell_type": "code",
   "execution_count": 29,
   "id": "4b1a60be",
   "metadata": {},
   "outputs": [],
   "source": [
    "# Making a task vector using GENE IDS for RNA based tasks\n",
    "i = 1\n",
    "for idd, task in tasks.iterrows():\n",
    "    \n",
    "    # assign the task type\n",
    "    ttype = 'normal'\n",
    "    if '/' in task.days:\n",
    "        ttype = 'fold-change'\n",
    "    \n",
    "    # extracting the required columns\n",
    "    cols = ['subject_id', task.fetchname]\n",
    "    \n",
    "    # process task requiring a single day \"normal\"\n",
    "    if ttype == 'normal':\n",
    "        tdata = []\n",
    "        for year in years[:-1]:\n",
    "            tdf = datasets[year]['{}_harmonized'.format(task.assay)]\n",
    "            tdf = tdf.loc[tdf.planned_day_relative_to_boost == int(task.days), cols]\n",
    "            tdata.append(tdf)\n",
    "        task_data = pd.concat(tdata)\n",
    "        \n",
    "        # assign column names\n",
    "        task_data.columns = ['subject_id', task.fetchname + '.day' + str(task.days)]   \n",
    "        \n",
    "    elif ttype == 'fold-change':\n",
    "        tdata = []\n",
    "        for year in years[:-1]:\n",
    "            tdf = datasets[year]['{}_harmonized'.format(task.assay)]\n",
    "            \n",
    "            # parse days\n",
    "            num_day, denom_day = task.days.split('/')\n",
    "            num_day, denom_day = int(num_day), int(denom_day)\n",
    "                       \n",
    "            # extract data for each and calculate the fold change\n",
    "            num_tdf = tdf.loc[tdf.planned_day_relative_to_boost == num_day, cols].\\\n",
    "                                set_index('subject_id').squeeze().sort_index()\n",
    "            denom_tdf = tdf.loc[tdf.planned_day_relative_to_boost == denom_day, cols].\\\n",
    "                                set_index('subject_id').squeeze().sort_index()\n",
    "            fc = num_tdf / denom_tdf\n",
    "\n",
    "            tdf = fc.to_frame().reset_index()\n",
    "            tdata.append(tdf)\n",
    "        task_data = pd.concat(tdata)           \n",
    "        \n",
    "        # assign column names\n",
    "        task_data.columns = ['subject_id', task.fetchname + '.fold-change-day' + str(task.days)]   \n",
    "\n",
    "    # merging the data together\n",
    "    if i == 1: \n",
    "        master_tasks = task_data\n",
    "    else:\n",
    "        master_tasks = master_tasks.merge(task_data, on='subject_id', how='outer')\n",
    "    i += 1 \n",
    "    \n",
    "# saving the task matrix \n",
    "task_fn = os.path.join(harmony_dir, 'task_matrix.feature_names.{}.tsv'.format(curr_mfi_name))\n",
    "master_tasks.to_csv(task_fn, sep='\\t', index=False)"
   ]
  },
  {
   "cell_type": "code",
   "execution_count": 30,
   "id": "647f8314",
   "metadata": {},
   "outputs": [
    {
     "data": {
      "text/html": [
       "<div>\n",
       "<style scoped>\n",
       "    .dataframe tbody tr th:only-of-type {\n",
       "        vertical-align: middle;\n",
       "    }\n",
       "\n",
       "    .dataframe tbody tr th {\n",
       "        vertical-align: top;\n",
       "    }\n",
       "\n",
       "    .dataframe thead th {\n",
       "        text-align: right;\n",
       "    }\n",
       "</style>\n",
       "<table border=\"1\" class=\"dataframe\">\n",
       "  <thead>\n",
       "    <tr style=\"text-align: right;\">\n",
       "      <th></th>\n",
       "      <th>subject_id</th>\n",
       "      <th>IgG-PT.day14</th>\n",
       "      <th>IgG-PT.fold-change-day14/0</th>\n",
       "      <th>Monocytes.day1</th>\n",
       "      <th>Monocytes.fold-change-day1/0</th>\n",
       "      <th>ENSG00000277632.day3</th>\n",
       "      <th>ENSG00000277632.fold-change-day3/0</th>\n",
       "    </tr>\n",
       "  </thead>\n",
       "  <tbody>\n",
       "    <tr>\n",
       "      <th>0</th>\n",
       "      <td>1</td>\n",
       "      <td>199.517666</td>\n",
       "      <td>2.909857</td>\n",
       "      <td>NaN</td>\n",
       "      <td>NaN</td>\n",
       "      <td>46.410</td>\n",
       "      <td>1.180225</td>\n",
       "    </tr>\n",
       "    <tr>\n",
       "      <th>1</th>\n",
       "      <td>3</td>\n",
       "      <td>129.197956</td>\n",
       "      <td>6.422625</td>\n",
       "      <td>NaN</td>\n",
       "      <td>NaN</td>\n",
       "      <td>26.204</td>\n",
       "      <td>1.127005</td>\n",
       "    </tr>\n",
       "    <tr>\n",
       "      <th>2</th>\n",
       "      <td>4</td>\n",
       "      <td>144.885339</td>\n",
       "      <td>3.858236</td>\n",
       "      <td>7.211965</td>\n",
       "      <td>1.313454</td>\n",
       "      <td>13.353</td>\n",
       "      <td>0.830204</td>\n",
       "    </tr>\n",
       "    <tr>\n",
       "      <th>3</th>\n",
       "      <td>5</td>\n",
       "      <td>97.743258</td>\n",
       "      <td>1.402631</td>\n",
       "      <td>NaN</td>\n",
       "      <td>NaN</td>\n",
       "      <td>20.618</td>\n",
       "      <td>0.706048</td>\n",
       "    </tr>\n",
       "    <tr>\n",
       "      <th>4</th>\n",
       "      <td>6</td>\n",
       "      <td>167.496355</td>\n",
       "      <td>42.792746</td>\n",
       "      <td>41.380502</td>\n",
       "      <td>1.815489</td>\n",
       "      <td>19.606</td>\n",
       "      <td>0.858256</td>\n",
       "    </tr>\n",
       "  </tbody>\n",
       "</table>\n",
       "</div>"
      ],
      "text/plain": [
       "   subject_id  IgG-PT.day14  IgG-PT.fold-change-day14/0  Monocytes.day1   \n",
       "0           1    199.517666                    2.909857             NaN  \\\n",
       "1           3    129.197956                    6.422625             NaN   \n",
       "2           4    144.885339                    3.858236        7.211965   \n",
       "3           5     97.743258                    1.402631             NaN   \n",
       "4           6    167.496355                   42.792746       41.380502   \n",
       "\n",
       "   Monocytes.fold-change-day1/0  ENSG00000277632.day3   \n",
       "0                           NaN                46.410  \\\n",
       "1                           NaN                26.204   \n",
       "2                      1.313454                13.353   \n",
       "3                           NaN                20.618   \n",
       "4                      1.815489                19.606   \n",
       "\n",
       "   ENSG00000277632.fold-change-day3/0  \n",
       "0                            1.180225  \n",
       "1                            1.127005  \n",
       "2                            0.830204  \n",
       "3                            0.706048  \n",
       "4                            0.858256  "
      ]
     },
     "execution_count": 30,
     "metadata": {},
     "output_type": "execute_result"
    }
   ],
   "source": [
    "master_tasks.head()"
   ]
  },
  {
   "cell_type": "code",
   "execution_count": 31,
   "id": "9b49783b",
   "metadata": {},
   "outputs": [],
   "source": [
    "# Making a task vector using GENE NAMES for RNA based tasks\n",
    "i = 1\n",
    "for idd, task in tasks.iterrows():\n",
    "    \n",
    "    # assign the task type\n",
    "    ttype = 'normal'\n",
    "    if '/' in task.days:\n",
    "        ttype = 'fold-change'\n",
    "    \n",
    "    # extracting the required columns\n",
    "    cols = ['subject_id', task.fetchname]\n",
    "    \n",
    "    # process task requiring a single day \"normal\"\n",
    "    if ttype == 'normal':\n",
    "        tdata = []\n",
    "        for year in years[:-1]:\n",
    "            tdf = datasets[year]['{}_harmonized'.format(task.assay)]\n",
    "            tdf = tdf.loc[tdf.planned_day_relative_to_boost == int(task.days), cols]\n",
    "            tdata.append(tdf)\n",
    "        task_data = pd.concat(tdata)\n",
    "        \n",
    "        # assign column names, this time RNA-seq will use gene names\n",
    "        if task.assay == 'rnaseq':\n",
    "            task_data.columns = ['subject_id', task.fullname + '.day' + str(task.days)]  \n",
    "        else:\n",
    "            task_data.columns = ['subject_id', task.fetchname + '.day' + str(task.days)]\n",
    "        \n",
    "    elif ttype == 'fold-change':\n",
    "        tdata = []\n",
    "        for year in years[:-1]:\n",
    "            tdf = datasets[year]['{}_harmonized'.format(task.assay)]\n",
    "            \n",
    "            # parse days\n",
    "            num_day, denom_day = task.days.split('/')\n",
    "            num_day, denom_day = int(num_day), int(denom_day)\n",
    "                       \n",
    "            # extract data for each and calculate the fold change\n",
    "            num_tdf = tdf.loc[tdf.planned_day_relative_to_boost == num_day, cols].\\\n",
    "                                set_index('subject_id').squeeze().sort_index()\n",
    "            denom_tdf = tdf.loc[tdf.planned_day_relative_to_boost == denom_day, cols].\\\n",
    "                                set_index('subject_id').squeeze().sort_index()\n",
    "            fc = num_tdf / denom_tdf\n",
    "\n",
    "            tdf = fc.to_frame().reset_index()\n",
    "            tdata.append(tdf)\n",
    "        task_data = pd.concat(tdata)           \n",
    "        \n",
    "        # assign column names, this time RNA-seq will use gene names\n",
    "        if task.assay == 'rnaseq':\n",
    "            task_data.columns = ['subject_id', task.fullname + '.fold-change-day' + str(task.days)]  \n",
    "        else:\n",
    "            task_data.columns = ['subject_id', task.fetchname + '.fold-change-day' + str(task.days)]   \n",
    "        \n",
    "    # merging the data together\n",
    "    if i == 1: \n",
    "        master_tasks = task_data\n",
    "    else:\n",
    "        master_tasks = master_tasks.merge(task_data, on='subject_id', how='outer')\n",
    "    i += 1 \n",
    "    \n",
    "# saving the task matrix \n",
    "task_fn = os.path.join(harmony_dir, 'task_matrix.common_names.{}.tsv'.format(curr_mfi_name))\n",
    "master_tasks.to_csv(task_fn, sep='\\t', index=False)"
   ]
  },
  {
   "cell_type": "raw",
   "id": "784f9700",
   "metadata": {},
   "source": [
    "## DEPRECATED: The fold change tasks are already included above\n",
    "## Providing day 0 data for all task vectors (for fold change transformations)"
   ]
  },
  {
   "cell_type": "raw",
   "id": "05adccad",
   "metadata": {},
   "source": [
    "# Making a task vector using GENE IDS for RNA based tasks\n",
    "i = 1\n",
    "for idd, task in tasks.iterrows():\n",
    "    \n",
    "    # extracting the required columns\n",
    "    cols = ['subject_id', task.fetchname]\n",
    "    task_data = twenty_data[task.assay]\n",
    "    task_data = task_data.loc[(task_data.planned_day_relative_to_boost == 0), cols]\n",
    "    task_data.columns = ['subject_id', task.fetchname + '_day' + str(0)]    \n",
    "    \n",
    "    # merging the data together\n",
    "    if i == 1: \n",
    "        zero_day_tasks = task_data\n",
    "    else:\n",
    "        zero_day_tasks = zero_day_tasks.merge(task_data, on='subject_id', how='outer')\n",
    "    i += 1 \n",
    "\n",
    "# saving the task matrix \n",
    "task_fn = os.path.join(harmony_dir, 'zero_day_matrix.feature_names.{}.tsv'.format(curr_mfi_name))\n",
    "zero_day_tasks.to_csv(task_fn, sep='\\t', index=False)"
   ]
  },
  {
   "cell_type": "raw",
   "id": "22cbebb9",
   "metadata": {},
   "source": [
    "# Making a task vector using GENE NAMES for RNA based tasks\n",
    "i = 1\n",
    "for idd, task in tasks.iterrows():\n",
    "    \n",
    "    # extracting the required columns\n",
    "    cols = ['subject_id', task.fetchname]\n",
    "    task_data = twenty_data[task.assay]\n",
    "    task_data = task_data.loc[(task_data.planned_day_relative_to_boost == 0), cols]\n",
    "    \n",
    "    if task.assay == 'rnaseq':\n",
    "        task_data.columns = ['subject_id', task.fullname + '_day' + str(0)]    \n",
    "    else:\n",
    "        task_data.columns = ['subject_id', task.fetchname + '_day' + str(0)]    \n",
    "    \n",
    "    # merging the data together\n",
    "    if i == 1: \n",
    "        zero_day_tasks = task_data\n",
    "    else:\n",
    "        zero_day_tasks = zero_day_tasks.merge(task_data, on='subject_id', how='outer')\n",
    "    i += 1 \n",
    "\n",
    "# saving the task matrix \n",
    "task_fn = os.path.join(harmony_dir, 'zero_day_matrix.common_names.{}.tsv'.format(curr_mfi_name))\n",
    "zero_day_tasks.to_csv(task_fn, sep='\\t', index=False)"
   ]
  },
  {
   "cell_type": "raw",
   "id": "6a81f071",
   "metadata": {},
   "source": [
    "zero_day_tasks"
   ]
  },
  {
   "cell_type": "markdown",
   "id": "944f2daf",
   "metadata": {},
   "source": [
    "## Providing meta data into a basic format"
   ]
  },
  {
   "cell_type": "code",
   "execution_count": 32,
   "id": "071281a1",
   "metadata": {},
   "outputs": [
    {
     "name": "stderr",
     "output_type": "stream",
     "text": [
      "C:\\Users\\jreyna\\AppData\\Local\\Temp\\ipykernel_25528\\1287468092.py:4: SettingWithCopyWarning: \n",
      "A value is trying to be set on a copy of a slice from a DataFrame\n",
      "\n",
      "See the caveats in the documentation: https://pandas.pydata.org/pandas-docs/stable/user_guide/indexing.html#returning-a-view-versus-a-copy\n",
      "  metadata.drop(drop_cols, axis=1, inplace=True)\n",
      "C:\\Users\\jreyna\\AppData\\Local\\Temp\\ipykernel_25528\\1287468092.py:4: SettingWithCopyWarning: \n",
      "A value is trying to be set on a copy of a slice from a DataFrame\n",
      "\n",
      "See the caveats in the documentation: https://pandas.pydata.org/pandas-docs/stable/user_guide/indexing.html#returning-a-view-versus-a-copy\n",
      "  metadata.drop(drop_cols, axis=1, inplace=True)\n",
      "C:\\Users\\jreyna\\AppData\\Local\\Temp\\ipykernel_25528\\1287468092.py:4: SettingWithCopyWarning: \n",
      "A value is trying to be set on a copy of a slice from a DataFrame\n",
      "\n",
      "See the caveats in the documentation: https://pandas.pydata.org/pandas-docs/stable/user_guide/indexing.html#returning-a-view-versus-a-copy\n",
      "  metadata.drop(drop_cols, axis=1, inplace=True)\n"
     ]
    }
   ],
   "source": [
    "drop_cols = ['specimen_id', 'actual_day_relative_to_boost', 'planned_day_relative_to_boost', 'visit', 'dataset']\n",
    "for year in years: \n",
    "    metadata = datasets[year]['master_meta'].drop_duplicates('subject_id')\n",
    "    metadata.drop(drop_cols, axis=1, inplace=True)\n",
    "    \n",
    "    basic_fn = os.path.join(harmony_dir, 'clinical_metadata.{}.tsv'.format(year))\n",
    "    metadata.to_csv(basic_fn, sep='\\t', index=False)\n"
   ]
  },
  {
   "cell_type": "markdown",
   "id": "57be5bb2",
   "metadata": {},
   "source": [
    "# Summarize the harmonization process"
   ]
  },
  {
   "cell_type": "code",
   "execution_count": 33,
   "id": "9b0668f0",
   "metadata": {},
   "outputs": [],
   "source": [
    "summary = []\n",
    "for year in years: \n",
    "    for assay in assays:\n",
    "        harmonized_assay = '{}_harmonized'.format(assay)\n",
    "        num_samples = datasets[year][harmonized_assay].subject_id.nunique()\n",
    "        summary.append([year, assay, num_samples,\n",
    "                        datasets[year][harmonized_assay].shape[0],\n",
    "                        datasets[year][harmonized_assay].shape[1]])"
   ]
  },
  {
   "cell_type": "code",
   "execution_count": 34,
   "id": "c58dba76",
   "metadata": {},
   "outputs": [],
   "source": [
    "summary = pd.DataFrame(summary)\n",
    "summary.columns = ['Year', 'Assay', 'No. Subjects', 'No. Experiments', 'No. Features']"
   ]
  },
  {
   "cell_type": "code",
   "execution_count": 35,
   "id": "f76d23e5",
   "metadata": {},
   "outputs": [
    {
     "data": {
      "text/html": [
       "<div>\n",
       "<style scoped>\n",
       "    .dataframe tbody tr th:only-of-type {\n",
       "        vertical-align: middle;\n",
       "    }\n",
       "\n",
       "    .dataframe tbody tr th {\n",
       "        vertical-align: top;\n",
       "    }\n",
       "\n",
       "    .dataframe thead th {\n",
       "        text-align: right;\n",
       "    }\n",
       "</style>\n",
       "<table border=\"1\" class=\"dataframe\">\n",
       "  <thead>\n",
       "    <tr style=\"text-align: right;\">\n",
       "      <th>Assay</th>\n",
       "      <th>pbmc_cell_frequency</th>\n",
       "      <th>pbmc_gene_expression</th>\n",
       "      <th>plasma_ab_titer</th>\n",
       "      <th>plasma_cytokine_concentration</th>\n",
       "    </tr>\n",
       "    <tr>\n",
       "      <th>Year</th>\n",
       "      <th></th>\n",
       "      <th></th>\n",
       "      <th></th>\n",
       "      <th></th>\n",
       "    </tr>\n",
       "  </thead>\n",
       "  <tbody>\n",
       "    <tr>\n",
       "      <th>2020</th>\n",
       "      <td>20</td>\n",
       "      <td>36</td>\n",
       "      <td>58</td>\n",
       "      <td>18</td>\n",
       "    </tr>\n",
       "    <tr>\n",
       "      <th>2021</th>\n",
       "      <td>33</td>\n",
       "      <td>36</td>\n",
       "      <td>33</td>\n",
       "      <td>36</td>\n",
       "    </tr>\n",
       "    <tr>\n",
       "      <th>2022</th>\n",
       "      <td>21</td>\n",
       "      <td>21</td>\n",
       "      <td>20</td>\n",
       "      <td>20</td>\n",
       "    </tr>\n",
       "  </tbody>\n",
       "</table>\n",
       "</div>"
      ],
      "text/plain": [
       "Assay  pbmc_cell_frequency  pbmc_gene_expression  plasma_ab_titer   \n",
       "Year                                                                \n",
       "2020                    20                    36               58  \\\n",
       "2021                    33                    36               33   \n",
       "2022                    21                    21               20   \n",
       "\n",
       "Assay  plasma_cytokine_concentration  \n",
       "Year                                  \n",
       "2020                              18  \n",
       "2021                              36  \n",
       "2022                              20  "
      ]
     },
     "execution_count": 35,
     "metadata": {},
     "output_type": "execute_result"
    }
   ],
   "source": [
    "summary.pivot(index='Year', columns='Assay', values='No. Subjects')"
   ]
  },
  {
   "cell_type": "code",
   "execution_count": 36,
   "id": "89baeb3f",
   "metadata": {},
   "outputs": [
    {
     "data": {
      "text/html": [
       "<div>\n",
       "<style scoped>\n",
       "    .dataframe tbody tr th:only-of-type {\n",
       "        vertical-align: middle;\n",
       "    }\n",
       "\n",
       "    .dataframe tbody tr th {\n",
       "        vertical-align: top;\n",
       "    }\n",
       "\n",
       "    .dataframe thead th {\n",
       "        text-align: right;\n",
       "    }\n",
       "</style>\n",
       "<table border=\"1\" class=\"dataframe\">\n",
       "  <thead>\n",
       "    <tr style=\"text-align: right;\">\n",
       "      <th>Assay</th>\n",
       "      <th>pbmc_cell_frequency</th>\n",
       "      <th>pbmc_gene_expression</th>\n",
       "      <th>plasma_ab_titer</th>\n",
       "      <th>plasma_cytokine_concentration</th>\n",
       "    </tr>\n",
       "    <tr>\n",
       "      <th>Year</th>\n",
       "      <th></th>\n",
       "      <th></th>\n",
       "      <th></th>\n",
       "      <th></th>\n",
       "    </tr>\n",
       "  </thead>\n",
       "  <tbody>\n",
       "    <tr>\n",
       "      <th>2020</th>\n",
       "      <td>24</td>\n",
       "      <td>11047</td>\n",
       "      <td>17</td>\n",
       "      <td>28</td>\n",
       "    </tr>\n",
       "    <tr>\n",
       "      <th>2021</th>\n",
       "      <td>24</td>\n",
       "      <td>11047</td>\n",
       "      <td>17</td>\n",
       "      <td>28</td>\n",
       "    </tr>\n",
       "    <tr>\n",
       "      <th>2022</th>\n",
       "      <td>24</td>\n",
       "      <td>11047</td>\n",
       "      <td>17</td>\n",
       "      <td>28</td>\n",
       "    </tr>\n",
       "  </tbody>\n",
       "</table>\n",
       "</div>"
      ],
      "text/plain": [
       "Assay  pbmc_cell_frequency  pbmc_gene_expression  plasma_ab_titer   \n",
       "Year                                                                \n",
       "2020                    24                 11047               17  \\\n",
       "2021                    24                 11047               17   \n",
       "2022                    24                 11047               17   \n",
       "\n",
       "Assay  plasma_cytokine_concentration  \n",
       "Year                                  \n",
       "2020                              28  \n",
       "2021                              28  \n",
       "2022                              28  "
      ]
     },
     "execution_count": 36,
     "metadata": {},
     "output_type": "execute_result"
    }
   ],
   "source": [
    "summary.pivot(index='Year', columns='Assay', values='No. Features')"
   ]
  },
  {
   "cell_type": "code",
   "execution_count": null,
   "id": "aa35138a",
   "metadata": {},
   "outputs": [],
   "source": []
  }
 ],
 "metadata": {
  "kernelspec": {
   "display_name": "loopcatalog",
   "language": "python",
   "name": "python3"
  },
  "language_info": {
   "codemirror_mode": {
    "name": "ipython",
    "version": 3
   },
   "file_extension": ".py",
   "mimetype": "text/x-python",
   "name": "python",
   "nbconvert_exporter": "python",
   "pygments_lexer": "ipython3",
   "version": "3.8.16"
  }
 },
 "nbformat": 4,
 "nbformat_minor": 5
}
